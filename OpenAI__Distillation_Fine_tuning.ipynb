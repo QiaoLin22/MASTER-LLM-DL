{
  "cells": [
    {
      "cell_type": "markdown",
      "metadata": {
        "id": "view-in-github",
        "colab_type": "text"
      },
      "source": [
        "<a href=\"https://colab.research.google.com/github/QiaoLin22/MASTER-LLM-DL/blob/main/OpenAI__Distillation_Fine_tuning.ipynb\" target=\"_parent\"><img src=\"https://colab.research.google.com/assets/colab-badge.svg\" alt=\"Open In Colab\"/></a>"
      ]
    },
    {
      "cell_type": "code",
      "source": [
        "!python -m pip install --upgrade pip -q\n",
        "!pip install openai -qU"
      ],
      "metadata": {
        "colab": {
          "base_uri": "https://localhost:8080/"
        },
        "id": "E-l-xtGTDyVW",
        "outputId": "707fa810-3fdf-4056-83c6-ede2db8c4dfe"
      },
      "execution_count": 1,
      "outputs": [
        {
          "output_type": "stream",
          "name": "stdout",
          "text": [
            "\u001b[?25l   \u001b[90m━━━━━━━━━━━━━━━━━━━━━━━━━━━━━━━━━━━━━━━━\u001b[0m \u001b[32m0.0/1.8 MB\u001b[0m \u001b[31m?\u001b[0m eta \u001b[36m-:--:--\u001b[0m\r\u001b[2K   \u001b[91m━━━\u001b[0m\u001b[90m╺\u001b[0m\u001b[90m━━━━━━━━━━━━━━━━━━━━━━━━━━━━━━━━━━━━\u001b[0m \u001b[32m0.1/1.8 MB\u001b[0m \u001b[31m4.1 MB/s\u001b[0m eta \u001b[36m0:00:01\u001b[0m\r\u001b[2K   \u001b[91m━━━━━━━━━━━━━━━━━━━━━━\u001b[0m\u001b[90m╺\u001b[0m\u001b[90m━━━━━━━━━━━━━━━━━\u001b[0m \u001b[32m1.0/1.8 MB\u001b[0m \u001b[31m15.0 MB/s\u001b[0m eta \u001b[36m0:00:01\u001b[0m\r\u001b[2K   \u001b[90m━━━━━━━━━━━━━━━━━━━━━━━━━━━━━━━━━━━━━━━━\u001b[0m \u001b[32m1.8/1.8 MB\u001b[0m \u001b[31m19.7 MB/s\u001b[0m eta \u001b[36m0:00:00\u001b[0m\n",
            "\u001b[?25h"
          ]
        }
      ]
    },
    {
      "cell_type": "code",
      "source": [
        "!pip show openai"
      ],
      "metadata": {
        "colab": {
          "base_uri": "https://localhost:8080/"
        },
        "id": "6iB7x7usD3Hn",
        "outputId": "a776e916-4e84-49a9-cf4a-2afa9c62314e"
      },
      "execution_count": 2,
      "outputs": [
        {
          "output_type": "stream",
          "name": "stdout",
          "text": [
            "Name: openai\n",
            "Version: 1.59.9\n",
            "Summary: The official Python library for the openai API\n",
            "Home-page: https://github.com/openai/openai-python\n",
            "Author: \n",
            "Author-email: OpenAI <support@openai.com>\n",
            "License: \n",
            "Location: /usr/local/lib/python3.11/dist-packages\n",
            "Requires: anyio, distro, httpx, jiter, pydantic, sniffio, tqdm, typing-extensions\n",
            "Required-by: \n"
          ]
        }
      ]
    },
    {
      "cell_type": "code",
      "source": [
        "import os\n",
        "import getpass\n",
        "from openai import OpenAI\n",
        "\n",
        "from google.colab import userdata\n",
        "\n",
        "\n",
        "# Set OpenAI API key\n",
        "api_key = userdata.get('OPENAI_API_KEY')\n",
        "\n",
        "# Initialize OpenAI client\n",
        "client = OpenAI(api_key=api_key)"
      ],
      "metadata": {
        "id": "DCqB4NGfEh03"
      },
      "execution_count": 8,
      "outputs": []
    },
    {
      "cell_type": "markdown",
      "source": [
        "Set up Questions and Evaluate Performance"
      ],
      "metadata": {
        "id": "Z2F0Z6fgJADI"
      }
    },
    {
      "cell_type": "code",
      "source": [
        "# Define the training questions\n",
        "train_questions = [\n",
        "    \"Is a try worth one or five points in touch rugby?\",\n",
        "    \"How much is a try worth in touch rugby?\",\n",
        "    \"Is a try worth five points in touch rugby?\",\n",
        "    \"What happens after a try is scored in touch rugby?\",\n",
        "    \"How is the game restarted after a try in touch rugby?\",\n",
        "    \"What is the role of the referee in touch rugby?\",\n",
        "    \"Are there any differences between touch rugby and rugby union?\",\n",
        "    \"What is the maximum number of players on each team in touch rugby?\",\n",
        "    \"How long is a typical touch rugby match?\",\n",
        "    \"How many players on the field in touch rugby?\"\n",
        "]"
      ],
      "metadata": {
        "id": "krCMLgpTJBGm"
      },
      "execution_count": 4,
      "outputs": []
    },
    {
      "cell_type": "code",
      "source": [
        "import openai\n",
        "\n",
        "# Function to call OpenAI and print the response\n",
        "def get_openai_response(model_name, question):\n",
        "    response = client.chat.completions.create(\n",
        "        model=model_name,\n",
        "        messages=[\n",
        "            {\"role\": \"system\", \"content\": \"You are a sports rules expert.\"},\n",
        "            {\"role\": \"user\", \"content\": question}\n",
        "        ],\n",
        "        temperature=0.25,\n",
        "        top_p=0.9 # help avoid bad tokens when sampling.\n",
        "    )\n",
        "    print(response.choices[0].message.content)\n",
        "    print()\n",
        "\n",
        "def evaluate(model_name,qs_to_eval=10):\n",
        "  print(f\"Generating with model: {model_name}:\")\n",
        "  # Call the function with both models\n",
        "  for question in train_questions[:qs_to_eval]:\n",
        "      print(\"---\")\n",
        "      get_openai_response(model_name, question)"
      ],
      "metadata": {
        "id": "H5bg6mrsJEIM"
      },
      "execution_count": 5,
      "outputs": []
    },
    {
      "cell_type": "code",
      "source": [
        "model_name = \"gpt-4o\" # teacher\n",
        "evaluate(model_name,1)"
      ],
      "metadata": {
        "colab": {
          "base_uri": "https://localhost:8080/"
        },
        "id": "gQAJwk89OdEt",
        "outputId": "06878cef-9d59-43ac-cfe7-46c1aec83e46"
      },
      "execution_count": 9,
      "outputs": [
        {
          "output_type": "stream",
          "name": "stdout",
          "text": [
            "Generating with model: gpt-4o:\n",
            "---\n",
            "In touch rugby, a try is typically worth one point. Touch rugby is a minimal-contact version of rugby, and its scoring system is simplified compared to traditional rugby union or rugby league, where a try is worth five or four points, respectively. However, it's important to note that specific leagues or tournaments might have variations in their rules, so it's always a good idea to check the specific regulations for the competition you are interested in.\n",
            "\n"
          ]
        }
      ]
    },
    {
      "cell_type": "code",
      "source": [
        "model_name = \"gpt-4o-mini\" # student\n",
        "evaluate(model_name,1)"
      ],
      "metadata": {
        "colab": {
          "base_uri": "https://localhost:8080/"
        },
        "id": "Qw2T6ft1O5r3",
        "outputId": "cebdcc8c-d6be-41ae-f30a-be4eaa77b956"
      },
      "execution_count": 10,
      "outputs": [
        {
          "output_type": "stream",
          "name": "stdout",
          "text": [
            "Generating with model: gpt-4o-mini:\n",
            "---\n",
            "In touch rugby, a try is worth five points.\n",
            "\n"
          ]
        }
      ]
    },
    {
      "cell_type": "markdown",
      "source": [
        "Generate and Store Data"
      ],
      "metadata": {
        "id": "noDYlxj8PERI"
      }
    },
    {
      "cell_type": "code",
      "source": [
        "dataset_tag = \"touch-rugby-7\"\n",
        "\n",
        "# Function to call OpenAI and print the response\n",
        "def get_and_store_openai_response(model_name, question, store=True):\n",
        "    response = client.chat.completions.create(\n",
        "        model=model_name,\n",
        "        messages=[\n",
        "            {\"role\": \"system\", \"content\": \"You are a sports rules expert.\"},\n",
        "            {\"role\": \"user\", \"content\": question}\n",
        "        ],\n",
        "        temperature=0.25,\n",
        "        top_p=0.9,\n",
        "        metadata={\n",
        "            \"distillation\": dataset_tag\n",
        "        },\n",
        "        store=store  # Save the completion\n",
        "    )\n",
        "    print(f\"Response from {model_name} for '{question}':\")\n",
        "    print(response.choices[0].message.content)\n",
        "    if store:\n",
        "      print(\"Response stored on OpenAI servers\")\n",
        "    print()\n",
        "\n",
        "# Function to generate data and print question numbers\n",
        "def generate_data(model_name, qs_to_eval=10):\n",
        "    # Call the function with both models\n",
        "    for question_number, question in enumerate(train_questions[:qs_to_eval], start=1):\n",
        "        print(f\"Question {question_number}:\")\n",
        "        print(\"---\")\n",
        "        get_and_store_openai_response(model_name, question)"
      ],
      "metadata": {
        "id": "LCoONYV9PEsD"
      },
      "execution_count": 11,
      "outputs": []
    },
    {
      "cell_type": "code",
      "source": [
        "model_name = \"gpt-4o\"\n",
        "generate_data(model_name)"
      ],
      "metadata": {
        "colab": {
          "base_uri": "https://localhost:8080/"
        },
        "id": "kgtfw__SQ8YJ",
        "outputId": "017c91ea-9007-4366-98cc-26ab8d0a9f23"
      },
      "execution_count": 12,
      "outputs": [
        {
          "output_type": "stream",
          "name": "stdout",
          "text": [
            "Question 1:\n",
            "---\n",
            "Response from gpt-4o for 'Is a try worth one or five points in touch rugby?':\n",
            "In touch rugby, a try is typically worth one point. This differs from traditional rugby union, where a try is worth five points. Touch rugby is a minimal-contact version of rugby, and its scoring system reflects the simplified nature of the game.\n",
            "Response stored on OpenAI servers\n",
            "\n",
            "Question 2:\n",
            "---\n",
            "Response from gpt-4o for 'How much is a try worth in touch rugby?':\n",
            "In touch rugby, a try is typically worth one point. Unlike other forms of rugby, such as rugby union or rugby league, there are no conversions or additional points for kicks in touch rugby. The primary objective is to score tries, and each try contributes one point to the team's score.\n",
            "Response stored on OpenAI servers\n",
            "\n",
            "Question 3:\n",
            "---\n",
            "Response from gpt-4o for 'Is a try worth five points in touch rugby?':\n",
            "In touch rugby, a try is typically worth one point. This differs from traditional rugby union, where a try is worth five points. Touch rugby has its own set of rules and scoring system, which emphasizes speed and skill without the physical contact found in other forms of rugby.\n",
            "Response stored on OpenAI servers\n",
            "\n",
            "Question 4:\n",
            "---\n",
            "Response from gpt-4o for 'What happens after a try is scored in touch rugby?':\n",
            "In touch rugby, after a try is scored, the game is restarted with a tap from the center of the field by the team that conceded the try. The scoring team retreats to their defending half of the field, allowing the opposing team to take the tap. The game resumes with the team that was scored against in possession of the ball, and they attempt to advance and score a try themselves. This restart process is designed to keep the game flowing and maintain the pace of play.\n",
            "Response stored on OpenAI servers\n",
            "\n",
            "Question 5:\n",
            "---\n",
            "Response from gpt-4o for 'How is the game restarted after a try in touch rugby?':\n",
            "In touch rugby, after a try is scored, the game is typically restarted with a tap from the center of the field by the team that conceded the try. The team that scored the try retreats to their defensive line, usually 10 meters back, to allow the opposing team to restart play. This method of restarting the game helps maintain the flow and pace of touch rugby, which is designed to be a fast and continuous game.\n",
            "Response stored on OpenAI servers\n",
            "\n",
            "Question 6:\n",
            "---\n",
            "Response from gpt-4o for 'What is the role of the referee in touch rugby?':\n",
            "In touch rugby, the referee plays a crucial role in ensuring the game is played fairly, safely, and according to the rules. Here are some key responsibilities of a touch rugby referee:\n",
            "\n",
            "1. **Enforcing the Rules**: The referee ensures that all players adhere to the rules of the game. This includes monitoring offside lines, ensuring proper touches, and overseeing the rollball process.\n",
            "\n",
            "2. **Game Management**: The referee manages the flow of the game, including starting and stopping play, managing substitutions, and ensuring the game is played within the designated time limits.\n",
            "\n",
            "3. **Safety**: The referee is responsible for player safety, ensuring that the game is played in a non-contact manner and addressing any dangerous play or misconduct.\n",
            "\n",
            "4. **Communication**: The referee communicates decisions clearly to players and team officials. This includes signaling penalties, explaining rulings, and managing any disputes or queries that arise during the game.\n",
            "\n",
            "5. **Positioning**: The referee maintains optimal positioning to observe play effectively, ensuring they can make accurate decisions and maintain control over the game.\n",
            "\n",
            "6. **Advantage Rule**: The referee applies the advantage rule, allowing play to continue if the non-offending team is in a favorable position, rather than stopping the game for minor infringements.\n",
            "\n",
            "7. **Scoring**: The referee is responsible for confirming and recording scores, ensuring that tries are awarded correctly.\n",
            "\n",
            "8. **Timekeeping**: In some cases, the referee may also be responsible for keeping track of the game time, including any stoppages or extra time.\n",
            "\n",
            "Overall, the referee's role is to facilitate a fair and enjoyable game for all participants, maintaining the spirit of touch rugby while upholding its rules and standards.\n",
            "Response stored on OpenAI servers\n",
            "\n",
            "Question 7:\n",
            "---\n",
            "Response from gpt-4o for 'Are there any differences between touch rugby and rugby union?':\n",
            "Yes, there are several differences between touch rugby and rugby union, as they are distinct forms of rugby with different rules and gameplay characteristics. Here are some of the key differences:\n",
            "\n",
            "1. **Contact**: \n",
            "   - **Touch Rugby**: As the name suggests, touch rugby is a minimal-contact sport. Instead of tackling, players stop the progress of the ball carrier by touching them with their hands. This makes the game safer and more accessible to a wider range of participants.\n",
            "   - **Rugby Union**: Rugby union is a full-contact sport where players tackle opponents to the ground to stop their progress. This involves a higher level of physicality and requires protective gear like mouthguards.\n",
            "\n",
            "2. **Team Size**:\n",
            "   - **Touch Rugby**: Typically played with six players on each team.\n",
            "   - **Rugby Union**: Played with 15 players on each team in the traditional format, although there are variations like rugby sevens which have seven players per team.\n",
            "\n",
            "3. **Field Size**:\n",
            "   - **Touch Rugby**: The field is generally smaller, about 70 meters long and 50 meters wide, which is roughly half the size of a rugby union field.\n",
            "   - **Rugby Union**: The field is larger, up to 100 meters long and 70 meters wide.\n",
            "\n",
            "4. **Scoring**:\n",
            "   - **Touch Rugby**: A try is scored by grounding the ball over the opponent's try line, similar to rugby union, but there are no conversions, penalties, or drop goals.\n",
            "   - **Rugby Union**: Points can be scored in several ways, including tries, conversions, penalty kicks, and drop goals.\n",
            "\n",
            "5. **Game Duration**:\n",
            "   - **Touch Rugby**: Games are usually shorter, often played in two halves of 20 minutes each.\n",
            "   - **Rugby Union**: Matches are typically 80 minutes long, divided into two halves of 40 minutes each.\n",
            "\n",
            "6. **Set Pieces**:\n",
            "   - **Touch Rugby**: There are no scrums or lineouts. Restarting play is done with a simple tap of the ball.\n",
            "   - **Rugby Union**: Features complex set pieces like scrums and lineouts, which are integral parts of the game.\n",
            "\n",
            "7. **Possession**:\n",
            "   - **Touch Rugby**: Teams have a set number of touches (usually six) to score before possession is turned over to the opposing team.\n",
            "   - **Rugby Union**: Possession is contested continuously, with turnovers occurring through various means like tackles, rucks, and mauls.\n",
            "\n",
            "These differences make touch rugby a faster-paced, less physically demanding game compared to rugby union, which is more strategic and physically intense. Touch rugby is often used as a training tool for rugby union players and is popular as a social and recreational sport.\n",
            "Response stored on OpenAI servers\n",
            "\n",
            "Question 8:\n",
            "---\n",
            "Response from gpt-4o for 'What is the maximum number of players on each team in touch rugby?':\n",
            "In touch rugby, the maximum number of players on the field for each team is typically six. However, teams often have additional players as substitutes, allowing for rotations during the game. The exact number of substitutes can vary depending on the specific competition or league rules.\n",
            "Response stored on OpenAI servers\n",
            "\n",
            "Question 9:\n",
            "---\n",
            "Response from gpt-4o for 'How long is a typical touch rugby match?':\n",
            "A typical touch rugby match consists of two halves, each lasting 20 minutes, with a short halftime break, usually around 5 minutes. This format can vary slightly depending on the specific competition or level of play, but the 20-minute halves are standard for most touch rugby matches.\n",
            "Response stored on OpenAI servers\n",
            "\n",
            "Question 10:\n",
            "---\n",
            "Response from gpt-4o for 'How many players on the field in touch rugby?':\n",
            "In touch rugby, each team typically has six players on the field at any one time. This format is common in standard touch rugby games, although variations can exist depending on specific league or tournament rules.\n",
            "Response stored on OpenAI servers\n",
            "\n"
          ]
        }
      ]
    }
  ],
  "metadata": {
    "accelerator": "GPU",
    "colab": {
      "gpuType": "A100",
      "provenance": [],
      "machine_shape": "hm",
      "authorship_tag": "ABX9TyPA7jkuuKE6pI7CaAi+uoYx",
      "include_colab_link": true
    },
    "kernelspec": {
      "display_name": "Python 3",
      "name": "python3"
    },
    "language_info": {
      "name": "python"
    }
  },
  "nbformat": 4,
  "nbformat_minor": 0
}