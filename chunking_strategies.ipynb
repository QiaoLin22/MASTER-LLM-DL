{
  "nbformat": 4,
  "nbformat_minor": 0,
  "metadata": {
    "colab": {
      "provenance": [],
      "authorship_tag": "ABX9TyP35DgVCSa68EzD7fnK/PEO",
      "include_colab_link": true
    },
    "kernelspec": {
      "name": "python3",
      "display_name": "Python 3"
    },
    "language_info": {
      "name": "python"
    }
  },
  "cells": [
    {
      "cell_type": "markdown",
      "metadata": {
        "id": "view-in-github",
        "colab_type": "text"
      },
      "source": [
        "<a href=\"https://colab.research.google.com/github/QiaoLin22/MASTER-LLM-DL/blob/main/chunking_strategies.ipynb\" target=\"_parent\"><img src=\"https://colab.research.google.com/assets/colab-badge.svg\" alt=\"Open In Colab\"/></a>"
      ]
    },
    {
      "cell_type": "code",
      "source": [
        "%%capture\n",
        "!pip install git+https://github.com/brandonstarxel/chunking_evaluation.git"
      ],
      "metadata": {
        "id": "kFhLyGRHb3mR"
      },
      "execution_count": null,
      "outputs": []
    },
    {
      "cell_type": "code",
      "source": [
        "# Main Chunking Functions\n",
        "from chunking_evaluation.chunking import (\n",
        "    ClusterSemanticChunker,\n",
        "    LLMSemanticChunker,\n",
        "    FixedTokenChunker,\n",
        "    RecursiveTokenChunker,\n",
        "    KamradtModifiedChunker\n",
        ")\n",
        "# Additional Dependencies\n",
        "import tiktoken\n",
        "from chromadb.utils import embedding_functions\n",
        "from chunking_evaluation.utils import openai_token_count\n",
        "import os"
      ],
      "metadata": {
        "id": "ud9Dla-M-3pf"
      },
      "execution_count": null,
      "outputs": []
    },
    {
      "cell_type": "code",
      "source": [
        "with open(\"./pride_and_prejudice.txt\", 'r', encoding='utf-8') as file:\n",
        "        document = file.read()\n",
        "\n",
        "print(\"First 1000 Characters: \", document[:1000])"
      ],
      "metadata": {
        "colab": {
          "base_uri": "https://localhost:8080/"
        },
        "id": "pCX99sAACbyQ",
        "outputId": "133dc394-f85e-4211-f820-4750b3fd5852"
      },
      "execution_count": 6,
      "outputs": [
        {
          "output_type": "stream",
          "name": "stdout",
          "text": [
            "First 1000 Characters:  ﻿The Project Gutenberg eBook of Pride and Prejudice\n",
            "    \n",
            "This ebook is for the use of anyone anywhere in the United States and\n",
            "most other parts of the world at no cost and with almost no restrictions\n",
            "whatsoever. You may copy it, give it away or re-use it under the terms\n",
            "of the Project Gutenberg License included with this ebook or online\n",
            "at www.gutenberg.org. If you are not located in the United States,\n",
            "you will have to check the laws of the country where you are located\n",
            "before using this eBook.\n",
            "\n",
            "Title: Pride and Prejudice\n",
            "\n",
            "Author: Jane Austen\n",
            "\n",
            "Release date: June 1, 1998 [eBook #1342]\n",
            "                Most recently updated: October 29, 2024\n",
            "\n",
            "Language: English\n",
            "\n",
            "Credits: Chuck Greif and the Online Distributed Proofreading Team at http://www.pgdp.net (This file was produced from images available at The Internet Archive)\n",
            "\n",
            "\n",
            "*** START OF THE PROJECT GUTENBERG EBOOK PRIDE AND PREJUDICE ***\n",
            "                            [Illustration:\n",
            "\n",
            "                             GEORGE ALLEN\n",
            "                    \n"
          ]
        }
      ]
    },
    {
      "cell_type": "code",
      "source": [
        "def analyze_chunks(chunks, use_tokens=False):\n",
        "    # Print the chunks of interest\n",
        "    print(\"\\nNumber of Chunks:\", len(chunks))\n",
        "    print(\"\\n\", \"=\"*50, \"200th Chunk\", \"=\"*50,\"\\n\", chunks[199])\n",
        "    print(\"\\n\", \"=\"*50, \"201st Chunk\", \"=\"*50,\"\\n\", chunks[200])\n",
        "\n",
        "    chunk1, chunk2 = chunks[199], chunks[200]\n",
        "\n",
        "    if use_tokens:\n",
        "        encoding = tiktoken.get_encoding(\"cl100k_base\")\n",
        "        tokens1 = encoding.encode(chunk1)\n",
        "        tokens2 = encoding.encode(chunk2)\n",
        "\n",
        "        # Find overlapping tokens\n",
        "        for i in range(len(tokens1), 0, -1):\n",
        "            if tokens1[-i:] == tokens2[:i]:\n",
        "                overlap = encoding.decode(tokens1[-i:])\n",
        "                print(\"\\n\", \"=\"*50, f\"\\nOverlapping text ({i} tokens):\", overlap)\n",
        "                return\n",
        "        print(\"\\nNo token overlap found\")\n",
        "    else:\n",
        "        # Find overlapping characters\n",
        "        for i in range(min(len(chunk1), len(chunk2)), 0, -1):\n",
        "            if chunk1[-i:] == chunk2[:i]:\n",
        "                print(\"\\n\", \"=\"*50, f\"\\nOverlapping text ({i} chars):\", chunk1[-i:])\n",
        "                return\n",
        "        print(\"\\nNo character overlap found\")"
      ],
      "metadata": {
        "id": "s155njewCvlJ"
      },
      "execution_count": 7,
      "outputs": []
    },
    {
      "cell_type": "markdown",
      "source": [
        "\n",
        "# Character Text Splitting\n",
        "The simplest form of chunking would be simply counting some number of characters and splitting at that count."
      ],
      "metadata": {
        "id": "zkNXdCFMDCCu"
      }
    },
    {
      "cell_type": "code",
      "source": [
        "def chunk_text(document, chunk_size, overlap):\n",
        "    chunks = []\n",
        "    stride = chunk_size - overlap\n",
        "    current_idx = 0\n",
        "\n",
        "    while current_idx < len(document):\n",
        "        # Take chunk_size characters starting from current_idx\n",
        "        chunk = document[current_idx:current_idx + chunk_size]\n",
        "        if not chunk:  # Break if we're out of text\n",
        "            break\n",
        "        chunks.append(chunk)\n",
        "        current_idx += stride  # Move forward by stride\n",
        "\n",
        "    return chunks"
      ],
      "metadata": {
        "id": "XKXExakeDDJh"
      },
      "execution_count": 8,
      "outputs": []
    },
    {
      "cell_type": "code",
      "source": [
        "character_chunks = chunk_text(document, chunk_size=400, overlap=0)\n",
        "\n",
        "analyze_chunks(character_chunks)"
      ],
      "metadata": {
        "id": "2d-FElQhELWQ",
        "colab": {
          "base_uri": "https://localhost:8080/"
        },
        "outputId": "023fb192-3f27-4600-d99f-6e95f878c40d"
      },
      "execution_count": 9,
      "outputs": [
        {
          "output_type": "stream",
          "name": "stdout",
          "text": [
            "\n",
            "Number of Chunks: 1871\n",
            "\n",
            " ================================================== 200th Chunk ================================================== \n",
            " y to their aunt, and\n",
            "to a milliner’s shop just over the way. The two youngest of the family,\n",
            "Catherine and Lydia, were particularly frequent in these attentions:\n",
            "their minds were more vacant than their sisters’, and when nothing\n",
            "better offered, a walk to Meryton was necessary to amuse their morning\n",
            "hours and furnish conversation for the evening; and, however bare of\n",
            "news the country in general mig\n",
            "\n",
            " ================================================== 201st Chunk ================================================== \n",
            " ht be, they always contrived to learn\n",
            "some from their aunt. At present, indeed, they were well supplied both\n",
            "with news and happiness by the recent arrival of a militia regiment in\n",
            "the neighbourhood; it was to remain the whole winter, and Meryton was\n",
            "the head-quarters.\n",
            "\n",
            "Their visits to Mrs. Philips were now productive of the most interesting\n",
            "intelligence. Every day added something to their knowledg\n",
            "\n",
            "No character overlap found\n"
          ]
        }
      ]
    },
    {
      "cell_type": "code",
      "source": [
        "\n",
        "character_overlap_chunks = chunk_text(document, chunk_size=800, overlap=400)\n",
        "\n",
        "analyze_chunks(character_overlap_chunks)"
      ],
      "metadata": {
        "id": "uFoGN0c-EMQf",
        "colab": {
          "base_uri": "https://localhost:8080/"
        },
        "outputId": "bf3934fb-d9ad-4208-a31f-ec96a58c5f44"
      },
      "execution_count": 10,
      "outputs": [
        {
          "output_type": "stream",
          "name": "stdout",
          "text": [
            "\n",
            "Number of Chunks: 1871\n",
            "\n",
            " ================================================== 200th Chunk ================================================== \n",
            " y to their aunt, and\n",
            "to a milliner’s shop just over the way. The two youngest of the family,\n",
            "Catherine and Lydia, were particularly frequent in these attentions:\n",
            "their minds were more vacant than their sisters’, and when nothing\n",
            "better offered, a walk to Meryton was necessary to amuse their morning\n",
            "hours and furnish conversation for the evening; and, however bare of\n",
            "news the country in general might be, they always contrived to learn\n",
            "some from their aunt. At present, indeed, they were well supplied both\n",
            "with news and happiness by the recent arrival of a militia regiment in\n",
            "the neighbourhood; it was to remain the whole winter, and Meryton was\n",
            "the head-quarters.\n",
            "\n",
            "Their visits to Mrs. Philips were now productive of the most interesting\n",
            "intelligence. Every day added something to their knowledg\n",
            "\n",
            " ================================================== 201st Chunk ================================================== \n",
            " ht be, they always contrived to learn\n",
            "some from their aunt. At present, indeed, they were well supplied both\n",
            "with news and happiness by the recent arrival of a militia regiment in\n",
            "the neighbourhood; it was to remain the whole winter, and Meryton was\n",
            "the head-quarters.\n",
            "\n",
            "Their visits to Mrs. Philips were now productive of the most interesting\n",
            "intelligence. Every day added something to their knowledge of the\n",
            "officers’ names and connections. Their lodgings were not long a secret,\n",
            "and at length they began to know the officers themselves. Mr. Philips\n",
            "visited them all, and this opened to his nieces a source of felicity\n",
            "unknown before. They could talk of nothing but officers; and Mr.\n",
            "Bingley’s large fortune, the mention of which gave animation to their\n",
            "mother, was worthless in their eyes when oppo\n",
            "\n",
            " ================================================== \n",
            "Overlapping text (400 chars): ht be, they always contrived to learn\n",
            "some from their aunt. At present, indeed, they were well supplied both\n",
            "with news and happiness by the recent arrival of a militia regiment in\n",
            "the neighbourhood; it was to remain the whole winter, and Meryton was\n",
            "the head-quarters.\n",
            "\n",
            "Their visits to Mrs. Philips were now productive of the most interesting\n",
            "intelligence. Every day added something to their knowledg\n"
          ]
        }
      ]
    },
    {
      "cell_type": "code",
      "source": [
        "import tiktoken\n",
        "\n",
        "# Loading cl100k_base tokenizer\n",
        "encoder = tiktoken.get_encoding(\"cl100k_base\")\n",
        "\n",
        "# Text Example\n",
        "text = \"hamburger\"\n",
        "tokens = encoder.encode(text)\n",
        "\n",
        "print(\"Tokens:\", tokens)"
      ],
      "metadata": {
        "id": "9b3WtAX6FZ97",
        "colab": {
          "base_uri": "https://localhost:8080/"
        },
        "outputId": "c5cf9ce8-d21f-4a32-c3b8-3cf28e83b2ea"
      },
      "execution_count": 11,
      "outputs": [
        {
          "output_type": "stream",
          "name": "stdout",
          "text": [
            "Tokens: [71, 47775]\n"
          ]
        }
      ]
    },
    {
      "cell_type": "code",
      "source": [
        "for i in range(len(tokens)):\n",
        "    print(f\"Token {i+1}:\", encoder.decode([tokens[i]]))\n",
        "\n",
        "print(\"Full Decoding: \", encoder.decode(tokens))"
      ],
      "metadata": {
        "id": "jr7Btu1nFblf",
        "colab": {
          "base_uri": "https://localhost:8080/"
        },
        "outputId": "28625a05-9de5-42aa-c337-efda496e5474"
      },
      "execution_count": 12,
      "outputs": [
        {
          "output_type": "stream",
          "name": "stdout",
          "text": [
            "Token 1: h\n",
            "Token 2: amburger\n",
            "Full Decoding:  hamburger\n"
          ]
        }
      ]
    },
    {
      "cell_type": "code",
      "source": [
        "def count_tokens(text, model=\"cl100k_base\"):\n",
        "    \"\"\"Count tokens in a text string using tiktoken\"\"\"\n",
        "    encoder = tiktoken.get_encoding(model)\n",
        "    return print(f\"Number of tokens: {len(encoder.encode(text))}\")"
      ],
      "metadata": {
        "id": "bv5Jb4SsOBu1"
      },
      "execution_count": 13,
      "outputs": []
    },
    {
      "cell_type": "code",
      "source": [
        "fixed_token_chunker = FixedTokenChunker(\n",
        "    chunk_size=400,\n",
        "    chunk_overlap=0,\n",
        "    encoding_name=\"cl100k_base\"\n",
        ")\n",
        "\n",
        "token_chunks = fixed_token_chunker.split_text(document)\n",
        "\n",
        "analyze_chunks(token_chunks, use_tokens=True)"
      ],
      "metadata": {
        "id": "gSBZh5rDOELV",
        "colab": {
          "base_uri": "https://localhost:8080/"
        },
        "outputId": "e24baa7e-f68b-44d3-b51a-6c80d9b84e7c"
      },
      "execution_count": 14,
      "outputs": [
        {
          "output_type": "stream",
          "name": "stdout",
          "text": [
            "\n",
            "Number of Chunks: 440\n",
            "\n",
            " ================================================== 200th Chunk ================================================== \n",
            "  as to meet Miss Bennet. The\n",
            "subject was pursued no further, and the gentlemen soon afterwards went\n",
            "away.\n",
            "\n",
            "\n",
            "\n",
            "\n",
            "[Illustration:\n",
            "\n",
            "“At Church”\n",
            "]\n",
            "\n",
            "\n",
            "\n",
            "\n",
            "CHAPTER XXXI.\n",
            "\n",
            "\n",
            "[Illustration]\n",
            "\n",
            "Colonel Fitzwilliam’s manners were very much admired at the Parsonage,\n",
            "and the ladies all felt that he must add considerably to the pleasure of\n",
            "their engagements at Rosings. It was some days, however, before they\n",
            "received any invitation thither, for while there were visitors in the\n",
            "house they could not be necessary; and it was not till Easter-day,\n",
            "almost a week after the gentlemen’s arrival, that they were honoured by\n",
            "such an attention, and then they were merely asked on leaving church to\n",
            "come there in the evening. For the last week they had seen very little\n",
            "of either Lady Catherine or her daughter. Colonel Fitzwilliam had called\n",
            "at the Parsonage more than once during the time, but Mr. Darcy they had\n",
            "only seen at church.\n",
            "\n",
            "The invitation was accepted, of course, and at a proper hour they joined\n",
            "the party in Lady Catherine’s drawing-room. Her Ladyship received them\n",
            "civilly, but it was plain that their company was by no means so\n",
            "acceptable as when she could get nobody else; and she was, in fact,\n",
            "almost engrossed by her nephews, speaking to them, especially to Darcy,\n",
            "much more than to any other person in the room.\n",
            "\n",
            "Colonel Fitzwilliam seemed really glad to see them: anything was a\n",
            "welcome relief to him at Rosings; and Mrs. Collins’s pretty friend had,\n",
            "moreover, caught his fancy very much. He now seated himself by her, and\n",
            "talked so agreeably of Kent and Hertfordshire, of travelling and staying\n",
            "at home, of new books and music, that Elizabeth had never been half so\n",
            "well entertained in that room before; and they conversed with so much\n",
            "spirit\n",
            "\n",
            " ================================================== 201st Chunk ================================================== \n",
            "  and flow as to draw the attention of Lady Catherine herself, as\n",
            "well as of Mr. Darcy. _His_ eyes had been soon and repeatedly turned\n",
            "towards them with a look of curiosity; and that her Ladyship, after a\n",
            "while, shared the feeling, was more openly acknowledged, for she did not\n",
            "scruple to call out,--\n",
            "\n",
            "“What is that you are saying, Fitzwilliam? What is it you are talking\n",
            "of? What are you telling Miss Bennet? Let me hear what it is.”\n",
            "\n",
            "“We were talking of music, madam,” said he, when no longer able to avoid\n",
            "a reply.\n",
            "\n",
            "“Of music! Then pray speak aloud. It is of all subjects my delight. I\n",
            "must have my share in the conversation, if you are speaking of music.\n",
            "There are few people in England, I suppose, who have more true\n",
            "enjoyment of music than myself, or a better natural taste. If I had ever\n",
            "learnt, I should have been a great proficient. And so would Anne, if her\n",
            "health had allowed her to apply. I am confident that she would have\n",
            "performed delightfully. How does Georgiana get on, Darcy?”\n",
            "\n",
            "Mr. Darcy spoke with affectionate praise of his sister’s proficiency.\n",
            "\n",
            "“I am very glad to hear such a good account of her,” said Lady\n",
            "Catherine; “and pray tell her from me, that she cannot expect to excel,\n",
            "if she does not practise a great deal.”\n",
            "\n",
            "“I assure you, madam,” he replied, “that she does not need such advice.\n",
            "She practises very constantly.”\n",
            "\n",
            "“So much the better. It cannot be done too much; and when I next write\n",
            "to her, I shall charge her not to neglect it on any account. I often\n",
            "tell young ladies, that no excellence in music is to be acquired without\n",
            "constant practice. I have told Miss Bennet several times, that she will\n",
            "never play\n",
            "\n",
            "No token overlap found\n"
          ]
        }
      ]
    },
    {
      "cell_type": "code",
      "source": [
        "count_tokens(token_chunks[0])"
      ],
      "metadata": {
        "colab": {
          "base_uri": "https://localhost:8080/"
        },
        "id": "cMOkZiwVOGGR",
        "outputId": "dac39b07-fe35-4327-c970-a4bcb38fd672"
      },
      "execution_count": 15,
      "outputs": [
        {
          "output_type": "stream",
          "name": "stdout",
          "text": [
            "Number of tokens: 400\n"
          ]
        }
      ]
    },
    {
      "cell_type": "code",
      "source": [
        "fixed_token_chunker = FixedTokenChunker(\n",
        "    chunk_size=400,\n",
        "    chunk_overlap=200,\n",
        "    encoding_name=\"cl100k_base\"\n",
        ")\n",
        "\n",
        "token_overlap_chunks = fixed_token_chunker.split_text(document)\n",
        "\n",
        "analyze_chunks(token_overlap_chunks, use_tokens=True)"
      ],
      "metadata": {
        "colab": {
          "base_uri": "https://localhost:8080/"
        },
        "id": "50Ed0qa3OIvm",
        "outputId": "1c8e5fb1-6fa5-4875-839b-f32f52d2d4f3"
      },
      "execution_count": 16,
      "outputs": [
        {
          "output_type": "stream",
          "name": "stdout",
          "text": [
            "\n",
            "Number of Chunks: 878\n",
            "\n",
            " ================================================== 200th Chunk ================================================== \n",
            "  _heard_ nothing of his going away when I\n",
            "was at Netherfield. I hope your plans in favour of the ----shire will\n",
            "not be affected by his being in the neighbourhood.”\n",
            "\n",
            "“Oh no--it is not for _me_ to be driven away by Mr. Darcy. If _he_\n",
            "wishes to avoid seeing _me_ he must go. We are not on friendly terms,\n",
            "and it always gives me pain to meet him, but I have no reason for\n",
            "avoiding _him_ but what I might proclaim to all the world--a sense of\n",
            "very great ill-usage, and most painful regrets at his being what he is.\n",
            "His father, Miss Bennet, the late Mr. Darcy, was one of the best men\n",
            "that ever breathed, and the truest friend I ever had; and I can never be\n",
            "in company with this Mr. Darcy without being grieved to the soul by a\n",
            "thousand tender recollections. His behaviour to myself has been\n",
            "scandalous; but I verily believe I could forgive him anything and\n",
            "everything, rather than his disappointing the hopes and disgracing the\n",
            "memory of his father.”\n",
            "\n",
            "Elizabeth found the interest of the subject increase, and listened with\n",
            "all her heart; but the delicacy of it prevented further inquiry.\n",
            "\n",
            "Mr. Wickham began to speak on more general topics, Meryton, the\n",
            "neighbourhood, the society, appearing highly pleased with all that he\n",
            "had yet seen, and speaking of the latter, especially, with gentle but\n",
            "very intelligible gallantry.\n",
            "\n",
            "“It was the prospect of constant society, and good society,” he added,\n",
            "“which was my chief inducement to enter the ----shire. I know it to be a\n",
            "most respectable, agreeable corps; and my friend Denny tempted me\n",
            "further by his account of their present quarters, and the very great\n",
            "attentions and excellent acquaintance Meryton had procured them\n",
            "\n",
            " ================================================== 201st Chunk ================================================== \n",
            "  behaviour to myself has been\n",
            "scandalous; but I verily believe I could forgive him anything and\n",
            "everything, rather than his disappointing the hopes and disgracing the\n",
            "memory of his father.”\n",
            "\n",
            "Elizabeth found the interest of the subject increase, and listened with\n",
            "all her heart; but the delicacy of it prevented further inquiry.\n",
            "\n",
            "Mr. Wickham began to speak on more general topics, Meryton, the\n",
            "neighbourhood, the society, appearing highly pleased with all that he\n",
            "had yet seen, and speaking of the latter, especially, with gentle but\n",
            "very intelligible gallantry.\n",
            "\n",
            "“It was the prospect of constant society, and good society,” he added,\n",
            "“which was my chief inducement to enter the ----shire. I know it to be a\n",
            "most respectable, agreeable corps; and my friend Denny tempted me\n",
            "further by his account of their present quarters, and the very great\n",
            "attentions and excellent acquaintance Meryton had procured them.\n",
            "Society, I own, is necessary to me. I have been a disappointed man, and\n",
            "my spirits will not bear solitude. I _must_ have employment and society.\n",
            "A military life is not what I was intended for, but circumstances have\n",
            "now made it eligible. The church _ought_ to have been my profession--I\n",
            "was brought up for the church; and I should at this time have been in\n",
            "possession of a most valuable living, had it pleased the gentleman we\n",
            "were speaking of just now.”\n",
            "\n",
            "“Indeed!”\n",
            "\n",
            "“Yes--the late Mr. Darcy bequeathed me the next presentation of the best\n",
            "living in his gift. He was my godfather, and excessively attached to me.\n",
            "I cannot do justice to his kindness. He meant to provide for me amply,\n",
            "and thought he had done it; but when the living fell, it was given\n",
            "elsewhere.”\n",
            "\n",
            "“Good heavens!” cried Elizabeth; “but how could _that_ be?\n",
            "\n",
            " ================================================== \n",
            "Overlapping text (200 tokens):  behaviour to myself has been\n",
            "scandalous; but I verily believe I could forgive him anything and\n",
            "everything, rather than his disappointing the hopes and disgracing the\n",
            "memory of his father.”\n",
            "\n",
            "Elizabeth found the interest of the subject increase, and listened with\n",
            "all her heart; but the delicacy of it prevented further inquiry.\n",
            "\n",
            "Mr. Wickham began to speak on more general topics, Meryton, the\n",
            "neighbourhood, the society, appearing highly pleased with all that he\n",
            "had yet seen, and speaking of the latter, especially, with gentle but\n",
            "very intelligible gallantry.\n",
            "\n",
            "“It was the prospect of constant society, and good society,” he added,\n",
            "“which was my chief inducement to enter the ----shire. I know it to be a\n",
            "most respectable, agreeable corps; and my friend Denny tempted me\n",
            "further by his account of their present quarters, and the very great\n",
            "attentions and excellent acquaintance Meryton had procured them\n"
          ]
        }
      ]
    },
    {
      "cell_type": "code",
      "source": [
        "recursive_character_chunker = RecursiveTokenChunker(\n",
        "    chunk_size=800,  # Character Length\n",
        "    chunk_overlap=0,  # Overlap\n",
        "    length_function=len,  # Character length with len()\n",
        "    separators=[\"\\n\\n\", \"\\n\", \".\", \"?\", \"!\", \" \", \"\"] # According to Research\n",
        ")\n",
        "\n",
        "recursive_character_chunks = recursive_character_chunker.split_text(document)\n",
        "analyze_chunks(recursive_character_chunks, use_tokens=False)"
      ],
      "metadata": {
        "colab": {
          "base_uri": "https://localhost:8080/"
        },
        "id": "CrGXYng5OLXH",
        "outputId": "258e7a1f-668f-4119-a9de-af0238556cfa"
      },
      "execution_count": 17,
      "outputs": [
        {
          "output_type": "stream",
          "name": "stdout",
          "text": [
            "\n",
            "Number of Chunks: 1270\n",
            "\n",
            " ================================================== 200th Chunk ================================================== \n",
            " When tea was over Mr. Hurst reminded his sister-in-law of the\n",
            "card-table--but in vain. She had obtained private intelligence that Mr.\n",
            "Darcy did not wish for cards, and Mr. Hurst soon found even his open\n",
            "petition rejected. She assured him that no one intended to play, and the\n",
            "silence of the whole party on the subject seemed to justify her. Mr.\n",
            "Hurst had, therefore, nothing to do but to stretch himself on one of the\n",
            "sofas and go to sleep. Darcy took up a book. Miss Bingley did the same;\n",
            "and Mrs. Hurst, principally occupied in playing with her bracelets and\n",
            "rings, joined now and then in her brother’s conversation with Miss\n",
            "Bennet.\n",
            "\n",
            " ================================================== 201st Chunk ================================================== \n",
            " Miss Bingley’s attention was quite as much engaged in watching Mr.\n",
            "Darcy’s progress through _his_ book, as in reading her own; and she was\n",
            "perpetually either making some inquiry, or looking at his page. She\n",
            "could not win him, however, to any conversation; he merely answered her\n",
            "question and read on. At length, quite exhausted by the attempt to be\n",
            "amused with her own book, which she had only chosen because it was the\n",
            "second volume of his, she gave a great yawn and said, “How pleasant it\n",
            "is to spend an evening in this way! I declare, after all, there is no\n",
            "enjoyment like reading! How much sooner one tires of anything than of a\n",
            "book! When I have a house of my own, I shall be miserable if I have not\n",
            "an excellent library.”\n",
            "\n",
            "No character overlap found\n"
          ]
        }
      ]
    },
    {
      "cell_type": "code",
      "source": [
        "len(recursive_character_chunks[199]) # Chunk 200"
      ],
      "metadata": {
        "colab": {
          "base_uri": "https://localhost:8080/"
        },
        "id": "5Xd_KBxIROdY",
        "outputId": "379db239-4f67-47bc-aa57-7ac471a17809"
      },
      "execution_count": 18,
      "outputs": [
        {
          "output_type": "execute_result",
          "data": {
            "text/plain": [
              "635"
            ]
          },
          "metadata": {},
          "execution_count": 18
        }
      ]
    },
    {
      "cell_type": "code",
      "source": [
        "recursive_character_chunker = RecursiveTokenChunker(\n",
        "    chunk_size=800,  # Character Length\n",
        "    chunk_overlap=400,  # Overlap\n",
        "    length_function=len,  # Character length with len()\n",
        "    separators=[\"\\n\\n\", \"\\n\", \".\", \"?\", \"!\", \" \", \"\"] # According to Research\n",
        ")\n",
        "\n",
        "recursive_character_overlap_chunks = recursive_character_chunker.split_text(document)\n",
        "analyze_chunks(recursive_character_overlap_chunks, use_tokens=False)"
      ],
      "metadata": {
        "colab": {
          "base_uri": "https://localhost:8080/"
        },
        "id": "cNhi84CYRUfw",
        "outputId": "00f90aba-398b-48a8-ef4b-144def1f53e0"
      },
      "execution_count": 19,
      "outputs": [
        {
          "output_type": "stream",
          "name": "stdout",
          "text": [
            "\n",
            "Number of Chunks: 1536\n",
            "\n",
            " ================================================== 200th Chunk ================================================== \n",
            " “Yes; and they have another, who lives somewhere near Cheapside.”\n",
            "\n",
            "“That is capital,” added her sister; and they both laughed heartily.\n",
            "\n",
            "“If they had uncles enough to fill _all_ Cheapside,” cried Bingley, “it\n",
            "would not make them one jot less agreeable.”\n",
            "\n",
            "“But it must very materially lessen their chance of marrying men of any\n",
            "consideration in the world,” replied Darcy.\n",
            "\n",
            "To this speech Bingley made no answer; but his sisters gave it their\n",
            "hearty assent, and indulged their mirth for some time at the expense of\n",
            "their dear friend’s vulgar relations.\n",
            "\n",
            " ================================================== 201st Chunk ================================================== \n",
            " With a renewal of tenderness, however, they repaired to her room on\n",
            "leaving the dining-parlour, and sat with her till summoned to coffee.\n",
            "She was still very poorly, and Elizabeth would not quit her at all, till\n",
            "late in the evening, when she had the comfort of seeing her asleep, and\n",
            "when it appeared to her rather right than pleasant that she should go\n",
            "down stairs herself. On entering the drawing-room, she found the whole\n",
            "party at loo, and was immediately invited to join them; but suspecting\n",
            "them to be playing high, she declined it, and making her sister the\n",
            "excuse, said she would amuse herself, for the short time she could stay\n",
            "below, with a book. Mr. Hurst looked at her with astonishment.\n",
            "\n",
            "“Do you prefer reading to cards?” said he; “that is rather singular.”\n",
            "\n",
            "No character overlap found\n"
          ]
        }
      ]
    },
    {
      "cell_type": "code",
      "source": [
        "recursive_token_chunker = RecursiveTokenChunker(\n",
        "    chunk_size=800,  # Character Length\n",
        "    chunk_overlap=0,  # Overlap\n",
        "    length_function=openai_token_count,\n",
        "    separators=[\"\\n\\n\", \"\\n\", \".\", \"?\", \"!\", \" \", \"\"] # According to Research\n",
        ")\n",
        "\n",
        "recursive_token_chunks = recursive_token_chunker.split_text(document)\n",
        "\n",
        "analyze_chunks(recursive_token_chunks, use_tokens=True)"
      ],
      "metadata": {
        "colab": {
          "base_uri": "https://localhost:8080/"
        },
        "id": "DjpekdfnRiXh",
        "outputId": "69a65532-322b-4942-c527-ccc7c844c23e"
      },
      "execution_count": 20,
      "outputs": [
        {
          "output_type": "stream",
          "name": "stdout",
          "text": [
            "\n",
            "Number of Chunks: 253\n",
            "\n",
            " ================================================== 200th Chunk ================================================== \n",
            " Elizabeth was now most heartily sorry that she had, from the distress of\n",
            "the moment, been led to make Mr. Darcy acquainted with their fears for\n",
            "her sister; for since her marriage would so shortly give the proper\n",
            "termination to the elopement, they might hope to conceal its\n",
            "unfavourable beginning from all those who were not immediately on the\n",
            "spot.\n",
            "\n",
            "She had no fear of its spreading farther, through his means. There were\n",
            "few people on whose secrecy she would have more confidently depended;\n",
            "but at the same time there was no one whose knowledge of a sister’s\n",
            "frailty would have mortified her so much. Not, however, from any fear of\n",
            "disadvantage from it individually to herself; for at any rate there\n",
            "seemed a gulf impassable between them. Had Lydia’s marriage been\n",
            "concluded on the most honourable terms, it was not to be supposed that\n",
            "Mr. Darcy would connect himself with a family, where to every other\n",
            "objection would now be added an alliance and relationship of the nearest\n",
            "kind with the man whom he so justly scorned.\n",
            "\n",
            "From such a connection she could not wonder that he should shrink. The\n",
            "wish of procuring her regard, which she had assured herself of his\n",
            "feeling in Derbyshire, could not in rational expectation survive such a\n",
            "blow as this. She was humbled, she was grieved; she repented, though she\n",
            "hardly knew of what. She became jealous of his esteem, when she could no\n",
            "longer hope to be benefited by it. She wanted to hear of him, when there\n",
            "seemed the least chance of gaining intelligence. She was convinced that\n",
            "she could have been happy with him, when it was no longer likely they\n",
            "should meet.\n",
            "\n",
            "What a triumph for him, as she often thought, could he know that the\n",
            "proposals which she had proudly spurned only four months ago would now\n",
            "have been gladly and gratefully received! He was as generous, she\n",
            "doubted not, as the most generous of his sex. But while he was mortal,\n",
            "there must be a triumph.\n",
            "\n",
            "She began now to comprehend that he was exactly the man who, in\n",
            "disposition and talents, would most suit her. His understanding and\n",
            "temper, though unlike her own, would have answered all her wishes. It\n",
            "was an union that must have been to the advantage of both: by her ease\n",
            "and liveliness, his mind might have been softened, his manners improved;\n",
            "and from his judgment, information, and knowledge of the world, she must\n",
            "have received benefit of greater importance.\n",
            "\n",
            "But no such happy marriage could now teach the admiring multitude what\n",
            "connubial felicity really was. An union of a different tendency, and\n",
            "precluding the possibility of the other, was soon to be formed in their\n",
            "family.\n",
            "\n",
            "How Wickham and Lydia were to be supported in tolerable independence she\n",
            "could not imagine. But how little of permanent happiness could belong to\n",
            "a couple who were only brought together because their passions were\n",
            "stronger than their virtue, she could easily conjecture.\n",
            "\n",
            "Mr. Gardiner soon wrote again to his brother. To Mr. Bennet’s\n",
            "acknowledgments he briefly replied, with assurances of his eagerness to\n",
            "promote the welfare of any of his family; and concluded with entreaties\n",
            "that the subject might never be mentioned to him again. The principal\n",
            "purport of his letter was to inform them, that Mr. Wickham had resolved\n",
            "on quitting the militia.\n",
            "\n",
            " ================================================== 201st Chunk ================================================== \n",
            " “It was greatly my wish that he should do so,” he added, “as soon as his\n",
            "marriage was fixed on. And I think you will agree with me, in\n",
            "considering a removal from that corps as highly advisable, both on his\n",
            "account and my niece’s. It is Mr. Wickham’s intention to go into the\n",
            "Regulars; and, among his former friends, there are still some who are\n",
            "able and willing to assist him in the army. He has the promise of an\n",
            "ensigncy in General----’s regiment, now quartered in the north. It is\n",
            "an advantage to have it so far from this part of the kingdom. He\n",
            "promises fairly; and I hope among different people, where they may each\n",
            "have a character to preserve, they will both be more prudent. I have\n",
            "written to Colonel Forster, to inform him of our present arrangements,\n",
            "and to request that he will satisfy the various creditors of Mr. Wickham\n",
            "in and near Brighton with assurances of speedy payment, for which I have\n",
            "pledged myself. And will you give yourself the trouble of carrying\n",
            "similar assurances to his creditors in Meryton, of whom I shall subjoin\n",
            "a list, according to his information? He has given in all his debts; I\n",
            "hope at least he has not deceived us. Haggerston has our directions, and\n",
            "all will be completed in a week. They will then join his regiment,\n",
            "unless they are first invited to Longbourn; and I understand from Mrs.\n",
            "Gardiner that my niece is very desirous of seeing you all before she\n",
            "leaves the south. She is well, and begs to be dutifully remembered to\n",
            "you and her mother.--Yours, etc.\n",
            "\n",
            "“E. GARDINER.”\n",
            "\n",
            "Mr. Bennet and his daughters saw all the advantages of Wickham’s\n",
            "removal from the ----shire, as clearly as Mr. Gardiner could do. But\n",
            "Mrs. Bennet was not so well pleased with it. Lydia’s being settled in\n",
            "the north, just when she had expected most pleasure and pride in her\n",
            "company, for she had by no means given up her plan of their residing in\n",
            "Hertfordshire, was a severe disappointment; and, besides, it was such a\n",
            "pity that Lydia should be taken from a regiment where she was acquainted\n",
            "with everybody, and had so many favourites.\n",
            "\n",
            "“She is so fond of Mrs. Forster,” said she, “it will be quite shocking\n",
            "to send her away! And there are several of the young men, too, that she\n",
            "likes very much. The officers may not be so pleasant in General----’s\n",
            "regiment.”\n",
            "\n",
            "No token overlap found\n"
          ]
        }
      ]
    },
    {
      "cell_type": "code",
      "source": [
        "recursive_token_chunker = RecursiveTokenChunker(\n",
        "    chunk_size=800,  # Character Length\n",
        "    chunk_overlap=400,  # Overlap\n",
        "    length_function=openai_token_count,\n",
        "    separators=[\"\\n\\n\", \"\\n\", \".\", \"?\", \"!\", \" \", \"\"] # According to Research\n",
        ")\n",
        "\n",
        "recursive_token_overlap_chunks = recursive_token_chunker.split_text(document)\n",
        "\n",
        "analyze_chunks(recursive_token_overlap_chunks, use_tokens=True)"
      ],
      "metadata": {
        "colab": {
          "base_uri": "https://localhost:8080/"
        },
        "id": "V1ekKIFCRlyt",
        "outputId": "277b2dbd-db8e-42db-d634-a47a45fa04bd"
      },
      "execution_count": 21,
      "outputs": [
        {
          "output_type": "stream",
          "name": "stdout",
          "text": [
            "\n",
            "Number of Chunks: 427\n",
            "\n",
            " ================================================== 200th Chunk ================================================== \n",
            " “I do not mean to say that a woman may not be settled too near her\n",
            "family. The far and the near must be relative, and depend on many\n",
            "varying circumstances. Where there is fortune to make the expense of\n",
            "travelling unimportant, distance becomes no evil. But that is not the\n",
            "case _here_. Mr. and Mrs. Collins have a comfortable income, but not\n",
            "such a one as will allow of frequent journeys--and I am persuaded my\n",
            "friend would not call herself _near_ her family under less than _half_\n",
            "the present distance.”\n",
            "\n",
            "Mr. Darcy drew his chair a little towards her, and said, “_You_ cannot\n",
            "have a right to such very strong local attachment. _You_ cannot have\n",
            "been always at Longbourn.”\n",
            "\n",
            "Elizabeth looked surprised. The gentleman experienced some change of\n",
            "feeling; he drew back his chair, took a newspaper from the table, and,\n",
            "glancing over it, said, in a colder voice,--\n",
            "\n",
            "“Are you pleased with Kent?”\n",
            "\n",
            "A short dialogue on the subject of the country ensued, on either side\n",
            "calm and concise--and soon put an end to by the entrance of Charlotte\n",
            "and her sister, just returned from their walk. The _tête-à-tête_\n",
            "surprised them. Mr. Darcy related the mistake which had occasioned his\n",
            "intruding on Miss Bennet, and, after sitting a few minutes longer,\n",
            "without saying much to anybody, went away.\n",
            "\n",
            "[Illustration: “Accompanied by their aunt”\n",
            "\n",
            "[_Copyright 1894 by George Allen._]]\n",
            "\n",
            "“What can be the meaning of this?” said Charlotte, as soon as he was\n",
            "gone. “My dear Eliza, he must be in love with you, or he would never\n",
            "have called on us in this familiar way.”\n",
            "\n",
            "But when Elizabeth told of his silence, it did not seem very likely,\n",
            "even to Charlotte’s wishes, to be the case; and, after various\n",
            "conjectures, they could at last only suppose his visit to proceed from\n",
            "the difficulty of finding anything to do, which was the more probable\n",
            "from the time of year. All field sports were over. Within doors there\n",
            "was Lady Catherine, books, and a billiard table, but gentlemen cannot be\n",
            "always within doors; and in the nearness of the Parsonage, or the\n",
            "pleasantness of the walk to it, or of the people who lived in it, the\n",
            "two cousins found a temptation from this period of walking thither\n",
            "almost every day. They called at various times of the morning, sometimes\n",
            "separately, sometimes together, and now and then accompanied by their\n",
            "aunt. It was plain to them all that Colonel Fitzwilliam came because he\n",
            "had pleasure in their society, a persuasion which of course recommended\n",
            "him still more; and Elizabeth was reminded by her own satisfaction in\n",
            "being with him, as well as by his evident admiration, of her former\n",
            "favourite, George Wickham; and though, in comparing them, she saw there\n",
            "was less captivating softness in Colonel Fitzwilliam’s manners, she\n",
            "believed he might have the best informed mind.\n",
            "\n",
            " ================================================== 201st Chunk ================================================== \n",
            " [Illustration: “Accompanied by their aunt”\n",
            "\n",
            "[_Copyright 1894 by George Allen._]]\n",
            "\n",
            "“What can be the meaning of this?” said Charlotte, as soon as he was\n",
            "gone. “My dear Eliza, he must be in love with you, or he would never\n",
            "have called on us in this familiar way.”\n",
            "\n",
            "But when Elizabeth told of his silence, it did not seem very likely,\n",
            "even to Charlotte’s wishes, to be the case; and, after various\n",
            "conjectures, they could at last only suppose his visit to proceed from\n",
            "the difficulty of finding anything to do, which was the more probable\n",
            "from the time of year. All field sports were over. Within doors there\n",
            "was Lady Catherine, books, and a billiard table, but gentlemen cannot be\n",
            "always within doors; and in the nearness of the Parsonage, or the\n",
            "pleasantness of the walk to it, or of the people who lived in it, the\n",
            "two cousins found a temptation from this period of walking thither\n",
            "almost every day. They called at various times of the morning, sometimes\n",
            "separately, sometimes together, and now and then accompanied by their\n",
            "aunt. It was plain to them all that Colonel Fitzwilliam came because he\n",
            "had pleasure in their society, a persuasion which of course recommended\n",
            "him still more; and Elizabeth was reminded by her own satisfaction in\n",
            "being with him, as well as by his evident admiration, of her former\n",
            "favourite, George Wickham; and though, in comparing them, she saw there\n",
            "was less captivating softness in Colonel Fitzwilliam’s manners, she\n",
            "believed he might have the best informed mind.\n",
            "\n",
            "But why Mr. Darcy came so often to the Parsonage it was more difficult\n",
            "to understand. It could not be for society, as he frequently sat there\n",
            "ten minutes together without opening his lips; and when he did speak, it\n",
            "seemed the effect of necessity rather than of choice--a sacrifice to\n",
            "propriety, not a pleasure to himself. He seldom appeared really\n",
            "animated. Mrs. Collins knew not what to make of him. Colonel\n",
            "Fitzwilliam’s occasionally laughing at his stupidity proved that he was\n",
            "generally different, which her own knowledge of him could not have told\n",
            "her; and as she would have liked to believe this change the effect of\n",
            "love, and the object of that love her friend Eliza, she set herself\n",
            "seriously to work to find it out: she watched him whenever they were at\n",
            "Rosings, and whenever he came to Hunsford; but without much success. He\n",
            "certainly looked at her friend a great deal, but the expression of that\n",
            "look was disputable. It was an earnest, steadfast gaze, but she often\n",
            "doubted whether there were much admiration in it, and sometimes it\n",
            "seemed nothing but absence of mind.\n",
            "\n",
            "She had once or twice suggested to Elizabeth the possibility of his\n",
            "being partial to her, but Elizabeth always laughed at the idea; and Mrs.\n",
            "Collins did not think it right to press the subject, from the danger of\n",
            "raising expectations which might only end in disappointment; for in her\n",
            "opinion it admitted not of a doubt, that all her friend’s dislike would\n",
            "vanish, if she could suppose him to be in her power.\n",
            "\n",
            "In her kind schemes for Elizabeth, she sometimes planned her marrying\n",
            "Colonel Fitzwilliam. He was, beyond comparison, the pleasantest man: he\n",
            "certainly admired her, and his situation in life was most eligible; but,\n",
            "to counterbalance these advantages, Mr. Darcy had considerable patronage\n",
            "in the church, and his cousin could have none at all.\n",
            "\n",
            "\n",
            "\n",
            "\n",
            "[Illustration: “On looking up”]\n",
            "\n",
            "\n",
            "\n",
            "\n",
            "CHAPTER XXXIII.\n",
            "\n",
            "\n",
            "[Illustration]\n",
            "\n",
            "No token overlap found\n"
          ]
        }
      ]
    },
    {
      "cell_type": "code",
      "source": [
        "import os\n",
        "import getpass\n",
        "from openai import OpenAI\n",
        "\n",
        "from google.colab import userdata\n",
        "\n",
        "\n",
        "# Set OpenAI API key\n",
        "api_key = userdata.get('OPENAI_API_KEY')\n",
        "\n",
        "# Initialize OpenAI client\n",
        "client = OpenAI(api_key=api_key)\n",
        "embedding_function = embedding_functions.OpenAIEmbeddingFunction(api_key=api_key, model_name=\"text-embedding-3-large\")"
      ],
      "metadata": {
        "id": "xl8jhT_TURmT"
      },
      "execution_count": 25,
      "outputs": []
    },
    {
      "cell_type": "code",
      "source": [
        "!pip install langchain_experimental\n",
        "!pip install langchain_openai\n",
        "from langchain_experimental.text_splitter import SemanticChunker\n",
        "from langchain_openai.embeddings import OpenAIEmbeddings\n",
        "\n",
        "lc_semantic_chunker = SemanticChunker(OpenAIEmbeddings(api_key=api_key))\n",
        "\n",
        "lc_semantic_chunks = lc_semantic_chunker.create_documents([document])"
      ],
      "metadata": {
        "colab": {
          "base_uri": "https://localhost:8080/"
        },
        "id": "zCcOmeyJU_qs",
        "outputId": "aeb276e8-3834-4283-8ddd-f703a4e8c7f5"
      },
      "execution_count": 29,
      "outputs": [
        {
          "output_type": "stream",
          "name": "stdout",
          "text": [
            "Requirement already satisfied: langchain_experimental in /usr/local/lib/python3.11/dist-packages (0.3.4)\n",
            "Requirement already satisfied: langchain-community<0.4.0,>=0.3.0 in /usr/local/lib/python3.11/dist-packages (from langchain_experimental) (0.3.19)\n",
            "Requirement already satisfied: langchain-core<0.4.0,>=0.3.28 in /usr/local/lib/python3.11/dist-packages (from langchain_experimental) (0.3.44)\n",
            "Requirement already satisfied: langchain<1.0.0,>=0.3.20 in /usr/local/lib/python3.11/dist-packages (from langchain-community<0.4.0,>=0.3.0->langchain_experimental) (0.3.20)\n",
            "Requirement already satisfied: SQLAlchemy<3,>=1.4 in /usr/local/lib/python3.11/dist-packages (from langchain-community<0.4.0,>=0.3.0->langchain_experimental) (2.0.39)\n",
            "Requirement already satisfied: requests<3,>=2 in /usr/local/lib/python3.11/dist-packages (from langchain-community<0.4.0,>=0.3.0->langchain_experimental) (2.32.3)\n",
            "Requirement already satisfied: PyYAML>=5.3 in /usr/local/lib/python3.11/dist-packages (from langchain-community<0.4.0,>=0.3.0->langchain_experimental) (6.0.2)\n",
            "Requirement already satisfied: aiohttp<4.0.0,>=3.8.3 in /usr/local/lib/python3.11/dist-packages (from langchain-community<0.4.0,>=0.3.0->langchain_experimental) (3.11.13)\n",
            "Requirement already satisfied: tenacity!=8.4.0,<10,>=8.1.0 in /usr/local/lib/python3.11/dist-packages (from langchain-community<0.4.0,>=0.3.0->langchain_experimental) (9.0.0)\n",
            "Requirement already satisfied: dataclasses-json<0.7,>=0.5.7 in /usr/local/lib/python3.11/dist-packages (from langchain-community<0.4.0,>=0.3.0->langchain_experimental) (0.6.7)\n",
            "Requirement already satisfied: pydantic-settings<3.0.0,>=2.4.0 in /usr/local/lib/python3.11/dist-packages (from langchain-community<0.4.0,>=0.3.0->langchain_experimental) (2.8.1)\n",
            "Requirement already satisfied: langsmith<0.4,>=0.1.125 in /usr/local/lib/python3.11/dist-packages (from langchain-community<0.4.0,>=0.3.0->langchain_experimental) (0.3.13)\n",
            "Requirement already satisfied: httpx-sse<1.0.0,>=0.4.0 in /usr/local/lib/python3.11/dist-packages (from langchain-community<0.4.0,>=0.3.0->langchain_experimental) (0.4.0)\n",
            "Requirement already satisfied: numpy<3,>=1.26.2 in /usr/local/lib/python3.11/dist-packages (from langchain-community<0.4.0,>=0.3.0->langchain_experimental) (1.26.4)\n",
            "Requirement already satisfied: jsonpatch<2.0,>=1.33 in /usr/local/lib/python3.11/dist-packages (from langchain-core<0.4.0,>=0.3.28->langchain_experimental) (1.33)\n",
            "Requirement already satisfied: packaging<25,>=23.2 in /usr/local/lib/python3.11/dist-packages (from langchain-core<0.4.0,>=0.3.28->langchain_experimental) (24.2)\n",
            "Requirement already satisfied: typing-extensions>=4.7 in /usr/local/lib/python3.11/dist-packages (from langchain-core<0.4.0,>=0.3.28->langchain_experimental) (4.12.2)\n",
            "Requirement already satisfied: pydantic<3.0.0,>=2.5.2 in /usr/local/lib/python3.11/dist-packages (from langchain-core<0.4.0,>=0.3.28->langchain_experimental) (2.10.6)\n",
            "Requirement already satisfied: aiohappyeyeballs>=2.3.0 in /usr/local/lib/python3.11/dist-packages (from aiohttp<4.0.0,>=3.8.3->langchain-community<0.4.0,>=0.3.0->langchain_experimental) (2.6.1)\n",
            "Requirement already satisfied: aiosignal>=1.1.2 in /usr/local/lib/python3.11/dist-packages (from aiohttp<4.0.0,>=3.8.3->langchain-community<0.4.0,>=0.3.0->langchain_experimental) (1.3.2)\n",
            "Requirement already satisfied: attrs>=17.3.0 in /usr/local/lib/python3.11/dist-packages (from aiohttp<4.0.0,>=3.8.3->langchain-community<0.4.0,>=0.3.0->langchain_experimental) (25.2.0)\n",
            "Requirement already satisfied: frozenlist>=1.1.1 in /usr/local/lib/python3.11/dist-packages (from aiohttp<4.0.0,>=3.8.3->langchain-community<0.4.0,>=0.3.0->langchain_experimental) (1.5.0)\n",
            "Requirement already satisfied: multidict<7.0,>=4.5 in /usr/local/lib/python3.11/dist-packages (from aiohttp<4.0.0,>=3.8.3->langchain-community<0.4.0,>=0.3.0->langchain_experimental) (6.1.0)\n",
            "Requirement already satisfied: propcache>=0.2.0 in /usr/local/lib/python3.11/dist-packages (from aiohttp<4.0.0,>=3.8.3->langchain-community<0.4.0,>=0.3.0->langchain_experimental) (0.3.0)\n",
            "Requirement already satisfied: yarl<2.0,>=1.17.0 in /usr/local/lib/python3.11/dist-packages (from aiohttp<4.0.0,>=3.8.3->langchain-community<0.4.0,>=0.3.0->langchain_experimental) (1.18.3)\n",
            "Requirement already satisfied: marshmallow<4.0.0,>=3.18.0 in /usr/local/lib/python3.11/dist-packages (from dataclasses-json<0.7,>=0.5.7->langchain-community<0.4.0,>=0.3.0->langchain_experimental) (3.26.1)\n",
            "Requirement already satisfied: typing-inspect<1,>=0.4.0 in /usr/local/lib/python3.11/dist-packages (from dataclasses-json<0.7,>=0.5.7->langchain-community<0.4.0,>=0.3.0->langchain_experimental) (0.9.0)\n",
            "Requirement already satisfied: jsonpointer>=1.9 in /usr/local/lib/python3.11/dist-packages (from jsonpatch<2.0,>=1.33->langchain-core<0.4.0,>=0.3.28->langchain_experimental) (3.0.0)\n",
            "Requirement already satisfied: langchain-text-splitters<1.0.0,>=0.3.6 in /usr/local/lib/python3.11/dist-packages (from langchain<1.0.0,>=0.3.20->langchain-community<0.4.0,>=0.3.0->langchain_experimental) (0.3.6)\n",
            "Requirement already satisfied: httpx<1,>=0.23.0 in /usr/local/lib/python3.11/dist-packages (from langsmith<0.4,>=0.1.125->langchain-community<0.4.0,>=0.3.0->langchain_experimental) (0.28.1)\n",
            "Requirement already satisfied: orjson<4.0.0,>=3.9.14 in /usr/local/lib/python3.11/dist-packages (from langsmith<0.4,>=0.1.125->langchain-community<0.4.0,>=0.3.0->langchain_experimental) (3.10.15)\n",
            "Requirement already satisfied: requests-toolbelt<2.0.0,>=1.0.0 in /usr/local/lib/python3.11/dist-packages (from langsmith<0.4,>=0.1.125->langchain-community<0.4.0,>=0.3.0->langchain_experimental) (1.0.0)\n",
            "Requirement already satisfied: zstandard<0.24.0,>=0.23.0 in /usr/local/lib/python3.11/dist-packages (from langsmith<0.4,>=0.1.125->langchain-community<0.4.0,>=0.3.0->langchain_experimental) (0.23.0)\n",
            "Requirement already satisfied: annotated-types>=0.6.0 in /usr/local/lib/python3.11/dist-packages (from pydantic<3.0.0,>=2.5.2->langchain-core<0.4.0,>=0.3.28->langchain_experimental) (0.7.0)\n",
            "Requirement already satisfied: pydantic-core==2.27.2 in /usr/local/lib/python3.11/dist-packages (from pydantic<3.0.0,>=2.5.2->langchain-core<0.4.0,>=0.3.28->langchain_experimental) (2.27.2)\n",
            "Requirement already satisfied: python-dotenv>=0.21.0 in /usr/local/lib/python3.11/dist-packages (from pydantic-settings<3.0.0,>=2.4.0->langchain-community<0.4.0,>=0.3.0->langchain_experimental) (1.0.1)\n",
            "Requirement already satisfied: charset-normalizer<4,>=2 in /usr/local/lib/python3.11/dist-packages (from requests<3,>=2->langchain-community<0.4.0,>=0.3.0->langchain_experimental) (3.4.1)\n",
            "Requirement already satisfied: idna<4,>=2.5 in /usr/local/lib/python3.11/dist-packages (from requests<3,>=2->langchain-community<0.4.0,>=0.3.0->langchain_experimental) (3.10)\n",
            "Requirement already satisfied: urllib3<3,>=1.21.1 in /usr/local/lib/python3.11/dist-packages (from requests<3,>=2->langchain-community<0.4.0,>=0.3.0->langchain_experimental) (2.3.0)\n",
            "Requirement already satisfied: certifi>=2017.4.17 in /usr/local/lib/python3.11/dist-packages (from requests<3,>=2->langchain-community<0.4.0,>=0.3.0->langchain_experimental) (2025.1.31)\n",
            "Requirement already satisfied: greenlet!=0.4.17 in /usr/local/lib/python3.11/dist-packages (from SQLAlchemy<3,>=1.4->langchain-community<0.4.0,>=0.3.0->langchain_experimental) (3.1.1)\n",
            "Requirement already satisfied: anyio in /usr/local/lib/python3.11/dist-packages (from httpx<1,>=0.23.0->langsmith<0.4,>=0.1.125->langchain-community<0.4.0,>=0.3.0->langchain_experimental) (3.7.1)\n",
            "Requirement already satisfied: httpcore==1.* in /usr/local/lib/python3.11/dist-packages (from httpx<1,>=0.23.0->langsmith<0.4,>=0.1.125->langchain-community<0.4.0,>=0.3.0->langchain_experimental) (1.0.7)\n",
            "Requirement already satisfied: h11<0.15,>=0.13 in /usr/local/lib/python3.11/dist-packages (from httpcore==1.*->httpx<1,>=0.23.0->langsmith<0.4,>=0.1.125->langchain-community<0.4.0,>=0.3.0->langchain_experimental) (0.14.0)\n",
            "Requirement already satisfied: mypy-extensions>=0.3.0 in /usr/local/lib/python3.11/dist-packages (from typing-inspect<1,>=0.4.0->dataclasses-json<0.7,>=0.5.7->langchain-community<0.4.0,>=0.3.0->langchain_experimental) (1.0.0)\n",
            "Requirement already satisfied: sniffio>=1.1 in /usr/local/lib/python3.11/dist-packages (from anyio->httpx<1,>=0.23.0->langsmith<0.4,>=0.1.125->langchain-community<0.4.0,>=0.3.0->langchain_experimental) (1.3.1)\n",
            "Requirement already satisfied: langchain_openai in /usr/local/lib/python3.11/dist-packages (0.3.8)\n",
            "Requirement already satisfied: langchain-core<1.0.0,>=0.3.42 in /usr/local/lib/python3.11/dist-packages (from langchain_openai) (0.3.44)\n",
            "Requirement already satisfied: openai<2.0.0,>=1.58.1 in /usr/local/lib/python3.11/dist-packages (from langchain_openai) (1.61.1)\n",
            "Requirement already satisfied: tiktoken<1,>=0.7 in /usr/local/lib/python3.11/dist-packages (from langchain_openai) (0.9.0)\n",
            "Requirement already satisfied: langsmith<0.4,>=0.1.125 in /usr/local/lib/python3.11/dist-packages (from langchain-core<1.0.0,>=0.3.42->langchain_openai) (0.3.13)\n",
            "Requirement already satisfied: tenacity!=8.4.0,<10.0.0,>=8.1.0 in /usr/local/lib/python3.11/dist-packages (from langchain-core<1.0.0,>=0.3.42->langchain_openai) (9.0.0)\n",
            "Requirement already satisfied: jsonpatch<2.0,>=1.33 in /usr/local/lib/python3.11/dist-packages (from langchain-core<1.0.0,>=0.3.42->langchain_openai) (1.33)\n",
            "Requirement already satisfied: PyYAML>=5.3 in /usr/local/lib/python3.11/dist-packages (from langchain-core<1.0.0,>=0.3.42->langchain_openai) (6.0.2)\n",
            "Requirement already satisfied: packaging<25,>=23.2 in /usr/local/lib/python3.11/dist-packages (from langchain-core<1.0.0,>=0.3.42->langchain_openai) (24.2)\n",
            "Requirement already satisfied: typing-extensions>=4.7 in /usr/local/lib/python3.11/dist-packages (from langchain-core<1.0.0,>=0.3.42->langchain_openai) (4.12.2)\n",
            "Requirement already satisfied: pydantic<3.0.0,>=2.5.2 in /usr/local/lib/python3.11/dist-packages (from langchain-core<1.0.0,>=0.3.42->langchain_openai) (2.10.6)\n",
            "Requirement already satisfied: anyio<5,>=3.5.0 in /usr/local/lib/python3.11/dist-packages (from openai<2.0.0,>=1.58.1->langchain_openai) (3.7.1)\n",
            "Requirement already satisfied: distro<2,>=1.7.0 in /usr/local/lib/python3.11/dist-packages (from openai<2.0.0,>=1.58.1->langchain_openai) (1.9.0)\n",
            "Requirement already satisfied: httpx<1,>=0.23.0 in /usr/local/lib/python3.11/dist-packages (from openai<2.0.0,>=1.58.1->langchain_openai) (0.28.1)\n",
            "Requirement already satisfied: jiter<1,>=0.4.0 in /usr/local/lib/python3.11/dist-packages (from openai<2.0.0,>=1.58.1->langchain_openai) (0.9.0)\n",
            "Requirement already satisfied: sniffio in /usr/local/lib/python3.11/dist-packages (from openai<2.0.0,>=1.58.1->langchain_openai) (1.3.1)\n",
            "Requirement already satisfied: tqdm>4 in /usr/local/lib/python3.11/dist-packages (from openai<2.0.0,>=1.58.1->langchain_openai) (4.67.1)\n",
            "Requirement already satisfied: regex>=2022.1.18 in /usr/local/lib/python3.11/dist-packages (from tiktoken<1,>=0.7->langchain_openai) (2024.11.6)\n",
            "Requirement already satisfied: requests>=2.26.0 in /usr/local/lib/python3.11/dist-packages (from tiktoken<1,>=0.7->langchain_openai) (2.32.3)\n",
            "Requirement already satisfied: idna>=2.8 in /usr/local/lib/python3.11/dist-packages (from anyio<5,>=3.5.0->openai<2.0.0,>=1.58.1->langchain_openai) (3.10)\n",
            "Requirement already satisfied: certifi in /usr/local/lib/python3.11/dist-packages (from httpx<1,>=0.23.0->openai<2.0.0,>=1.58.1->langchain_openai) (2025.1.31)\n",
            "Requirement already satisfied: httpcore==1.* in /usr/local/lib/python3.11/dist-packages (from httpx<1,>=0.23.0->openai<2.0.0,>=1.58.1->langchain_openai) (1.0.7)\n",
            "Requirement already satisfied: h11<0.15,>=0.13 in /usr/local/lib/python3.11/dist-packages (from httpcore==1.*->httpx<1,>=0.23.0->openai<2.0.0,>=1.58.1->langchain_openai) (0.14.0)\n",
            "Requirement already satisfied: jsonpointer>=1.9 in /usr/local/lib/python3.11/dist-packages (from jsonpatch<2.0,>=1.33->langchain-core<1.0.0,>=0.3.42->langchain_openai) (3.0.0)\n",
            "Requirement already satisfied: orjson<4.0.0,>=3.9.14 in /usr/local/lib/python3.11/dist-packages (from langsmith<0.4,>=0.1.125->langchain-core<1.0.0,>=0.3.42->langchain_openai) (3.10.15)\n",
            "Requirement already satisfied: requests-toolbelt<2.0.0,>=1.0.0 in /usr/local/lib/python3.11/dist-packages (from langsmith<0.4,>=0.1.125->langchain-core<1.0.0,>=0.3.42->langchain_openai) (1.0.0)\n",
            "Requirement already satisfied: zstandard<0.24.0,>=0.23.0 in /usr/local/lib/python3.11/dist-packages (from langsmith<0.4,>=0.1.125->langchain-core<1.0.0,>=0.3.42->langchain_openai) (0.23.0)\n",
            "Requirement already satisfied: annotated-types>=0.6.0 in /usr/local/lib/python3.11/dist-packages (from pydantic<3.0.0,>=2.5.2->langchain-core<1.0.0,>=0.3.42->langchain_openai) (0.7.0)\n",
            "Requirement already satisfied: pydantic-core==2.27.2 in /usr/local/lib/python3.11/dist-packages (from pydantic<3.0.0,>=2.5.2->langchain-core<1.0.0,>=0.3.42->langchain_openai) (2.27.2)\n",
            "Requirement already satisfied: charset-normalizer<4,>=2 in /usr/local/lib/python3.11/dist-packages (from requests>=2.26.0->tiktoken<1,>=0.7->langchain_openai) (3.4.1)\n",
            "Requirement already satisfied: urllib3<3,>=1.21.1 in /usr/local/lib/python3.11/dist-packages (from requests>=2.26.0->tiktoken<1,>=0.7->langchain_openai) (2.3.0)\n"
          ]
        }
      ]
    },
    {
      "cell_type": "code",
      "source": [
        "print(\"# of Chunks:\", len(lc_semantic_chunks), \"\\n\")\n",
        "print(lc_semantic_chunks[199].page_content)\n",
        "print(\"\\n\\n\", \"=\"*50, \"\\n\\n\")\n",
        "print(lc_semantic_chunks[200].page_content)\n",
        "print(\"\\n\\n\", \"=\"*50, \"\\n\\n\")\n",
        "\n",
        "count_tokens(lc_semantic_chunks[199].page_content)\n",
        "count_tokens(lc_semantic_chunks[200].page_content)"
      ],
      "metadata": {
        "colab": {
          "base_uri": "https://localhost:8080/"
        },
        "id": "ix5k7Ss5ZdaH",
        "outputId": "0be7ba19-8e29-4d07-d941-6c7809275ebf"
      },
      "execution_count": 30,
      "outputs": [
        {
          "output_type": "stream",
          "name": "stdout",
          "text": [
            "# of Chunks: 305 \n",
            "\n",
            "“John told us Mr. Darcy was\n",
            "here when you sent for us;--was it so?”\n",
            "\n",
            "“Yes; and I told him we should not be able to keep our engagement. _That_ is all settled.”\n",
            "\n",
            "“What is all settled?” repeated the other, as she ran into her room to\n",
            "prepare. “And are they upon such terms as for her to disclose the real\n",
            "truth? Oh, that I knew how it was!”\n",
            "\n",
            "But wishes were vain; or, at best, could serve only to amuse her in the\n",
            "hurry and confusion of the following hour. Had Elizabeth been at leisure\n",
            "to be idle, she would have remained certain that all employment was\n",
            "impossible to one so wretched as herself; but she had her share of\n",
            "business as well as her aunt, and amongst the rest there were notes to\n",
            "be written to all their friends at Lambton, with false excuses for their\n",
            "sudden departure. An hour, however, saw the whole completed; and Mr. Gardiner, meanwhile, having settled his account at the inn, nothing\n",
            "remained to be done but to go; and Elizabeth, after all the misery of\n",
            "the morning, found herself, in a shorter space of time than she could\n",
            "have supposed, seated in the carriage, and on the road to Longbourn. [Illustration:\n",
            "\n",
            "     “The first pleasing earnest of their welcome”\n",
            "]\n",
            "\n",
            "\n",
            "\n",
            "\n",
            "CHAPTER XLVII. [Illustration]\n",
            "\n",
            "“I have been thinking it over again, Elizabeth,” said her uncle, as they\n",
            "drove from the town; “and really, upon serious consideration, I am much\n",
            "more inclined than I was to judge as your eldest sister does of the\n",
            "matter. It appears to me so very unlikely that any young man should form\n",
            "such a design against a girl who is by no means unprotected or\n",
            "friendless, and who was actually staying in his Colonel’s family, that I\n",
            "am strongly inclined to hope the best. Could he expect that her friends\n",
            "would not step forward? Could he expect to be noticed again by the\n",
            "regiment, after such an affront to Colonel Forster? His temptation is\n",
            "not adequate to the risk.”\n",
            "\n",
            "“Do you really think so?” cried Elizabeth, brightening up for a moment. “Upon my word,” said Mrs. Gardiner, “I begin to be of your uncle’s\n",
            "opinion. It is really too great a violation of decency, honour, and\n",
            "interest, for him to be guilty of it. I cannot think so very ill of\n",
            "Wickham. Can you, yourself, Lizzie, so wholly give him up, as to believe\n",
            "him capable of it?”\n",
            "\n",
            "“Not perhaps of neglecting his own interest. But of every other neglect\n",
            "I can believe him capable. If, indeed, it should be so!\n",
            "\n",
            "\n",
            " ================================================== \n",
            "\n",
            "\n",
            "But I dare not\n",
            "hope it. Why should they not go on to Scotland, if that had been the\n",
            "case?”\n",
            "\n",
            "“In the first place,” replied Mr. Gardiner, “there is no absolute proof\n",
            "that they are not gone to Scotland.”\n",
            "\n",
            "“Oh, but their removing from the chaise into a hackney coach is such a\n",
            "presumption! And, besides, no traces of them were to be found on the\n",
            "Barnet road.”\n",
            "\n",
            "“Well, then,--supposing them to be in London--they may be there, though\n",
            "for the purpose of concealment, for no more exceptionable purpose. It is\n",
            "not likely that money should be very abundant on either side; and it\n",
            "might strike them that they could be more economically, though less\n",
            "expeditiously, married in London, than in Scotland.”\n",
            "\n",
            "“But why all this secrecy? Why any fear of detection? Why must their\n",
            "marriage be private? Oh, no, no--this is not likely. His most particular\n",
            "friend, you see by Jane’s account, was persuaded of his never intending\n",
            "to marry her. Wickham will never marry a woman without some money. He\n",
            "cannot afford it. And what claims has Lydia, what attractions has she\n",
            "beyond youth, health, and good humour, that could make him for her sake\n",
            "forego every chance of benefiting himself by marrying well? As to what\n",
            "restraint the apprehensions of disgrace in the corps might throw on a\n",
            "dishonourable elopement with her, I am not able to judge; for I know\n",
            "nothing of the effects that such a step might produce. But as to your\n",
            "other objection, I am afraid it will hardly hold good. Lydia has no\n",
            "brothers to step forward; and he might imagine, from my father’s\n",
            "behaviour, from his indolence and the little attention he has ever\n",
            "seemed to give to what was going forward in his family, that _he_ would\n",
            "do as little and think as little about it, as any father could do, in\n",
            "such a matter.”\n",
            "\n",
            "“But can you think that Lydia is so lost to everything but love of him,\n",
            "as to consent to live with him on any other terms than marriage?”\n",
            "\n",
            "“It does seem, and it is most shocking, indeed,” replied Elizabeth, with\n",
            "tears in her eyes, “that a sister’s sense of decency and virtue in such\n",
            "a point should admit of doubt. But, really, I know not what to say.\n",
            "\n",
            "\n",
            " ================================================== \n",
            "\n",
            "\n",
            "Number of tokens: 577\n",
            "Number of tokens: 511\n"
          ]
        }
      ]
    },
    {
      "cell_type": "code",
      "source": [
        "kamradt_chunker = KamradtModifiedChunker(\n",
        "    avg_chunk_size=400,      # Target size in tokens\n",
        "    min_chunk_size=50,       # Initial split size\n",
        "    embedding_function=embedding_function  # Pass your embedding function\n",
        ")\n",
        "\n",
        "# Split your text\n",
        "modified_kamradt_chunks = kamradt_chunker.split_text(document)"
      ],
      "metadata": {
        "id": "qbRxI_EvZhI8"
      },
      "execution_count": 31,
      "outputs": []
    },
    {
      "cell_type": "code",
      "source": [
        "analyze_chunks(modified_kamradt_chunks, use_tokens=True)\n",
        "print(\"\\n\\n\", \"=\"*50, \"\\n\\n\")\n",
        "count_tokens(modified_kamradt_chunks[200])"
      ],
      "metadata": {
        "colab": {
          "base_uri": "https://localhost:8080/"
        },
        "id": "oVV7xzQJZlTF",
        "outputId": "d30939a1-9984-47a3-c5c2-a9a65bc35a2a"
      },
      "execution_count": 32,
      "outputs": [
        {
          "output_type": "stream",
          "name": "stdout",
          "text": [
            "\n",
            "Number of Chunks: 432\n",
            "\n",
            " ================================================== 200th Chunk ================================================== \n",
            " brother, and that she had often heard him speak so affectionately of his\n",
            "sister as to prove him capable of some amiable feeling;--that had his\n",
            "actions been what Wickham represented them, so gross a violation of everything right could hardly have been concealed from the world; and\n",
            "that friendship between a person capable of it and such an amiable man\n",
            "as Mr. Bingley was incomprehensible. She grew absolutely ashamed of herself. Of neither Darcy nor Wickham\n",
            "could she think, without feeling that she had been blind, partial,\n",
            "prejudiced, absurd. “How despicably have I acted!” she cried. “I, who have prided myself on\n",
            "my discernment! I, who have valued myself on my abilities! who have often disdained the generous candour of my sister, and gratified my\n",
            "vanity in useless or blameless distrust. How humiliating is this discovery! Yet, how just a humiliation! Had I been in love, I could not\n",
            "have been more wretchedly blind. But vanity, not love, has been my folly. Pleased with the preference of one, and offended by the neglect\n",
            "of the other, on the very beginning of our acquaintance, I have courted\n",
            "prepossession and ignorance, and driven reason away where either were concerned. Till this moment, I never knew myself.” From herself to Jane, from Jane to Bingley, her thoughts were in a line\n",
            "which soon brought to her recollection that Mr. Darcy’s explanation _there_ had appeared very insufficient; and she read it again. Widely\n",
            "different was the effect of a second perusal. How could she deny that\n",
            "credit to his assertions, in one instance, which she had been obliged to give in the other? He declared himself to have been totally unsuspicious\n",
            "of her sister’s attachment; and she could not help remembering what\n",
            "Charlotte’s opinion had always been. Neither could she deny the justice of his description of Jane. She felt that Jane’s feelings, though\n",
            "fervent, were little displayed, and that there was a constant\n",
            "complacency in her air and manner, not often united with great\n",
            "sensibility. When she came to that part of the letter in which her family were\n",
            "mentioned, in tones of such mortifying, yet merited, reproach, her sense\n",
            "of shame was severe. The justice of the charge struck her too forcibly for denial; and the circumstances to which he particularly alluded, as\n",
            "having passed at the Netherfield ball, and as confirming all his first\n",
            "disapprobation, could not have made a stronger impression on his mind\n",
            "\n",
            " ================================================== 201st Chunk ================================================== \n",
            " than on hers. The compliment to herself and her sister was not unfelt. It soothed, but\n",
            "it could not console her for the contempt which had been thus\n",
            "self-attracted by the rest of her family; and as she considered that Jane’s disappointment had, in fact, been the work of her nearest\n",
            "relations, and reflected how materially the credit of both must be hurt\n",
            "by such impropriety of conduct, she felt depressed beyond anything she\n",
            "had ever known before. After wandering along the lane for two hours, giving way to every\n",
            "variety of thought, reconsidering events, determining probabilities, and\n",
            "reconciling herself, as well as she could, to a change so sudden and so important, fatigue, and a recollection of her long absence, made her at\n",
            "length return home; and she entered the house with the wish of appearing\n",
            "cheerful as usual, and the resolution of repressing such reflections as must make her unfit for conversation.\n",
            "\n",
            "No token overlap found\n",
            "\n",
            "\n",
            " ================================================== \n",
            "\n",
            "\n",
            "Number of tokens: 201\n"
          ]
        }
      ]
    },
    {
      "cell_type": "code",
      "source": [
        "cluster_chunker = ClusterSemanticChunker(\n",
        "    embedding_function=embedding_function,\n",
        "    max_chunk_size=400,\n",
        "    length_function=openai_token_count\n",
        ")\n",
        "\n",
        "cluster_chunker_chunks = cluster_chunker.split_text(document)\n",
        "\n",
        "analyze_chunks(cluster_chunker_chunks, use_tokens=True)"
      ],
      "metadata": {
        "colab": {
          "base_uri": "https://localhost:8080/"
        },
        "id": "UrNLDliZZyJA",
        "outputId": "5b1cc237-7f52-42da-f697-579e4f8cf219"
      },
      "execution_count": 33,
      "outputs": [
        {
          "output_type": "stream",
          "name": "stdout",
          "text": [
            "\n",
            "Number of Chunks: 991\n",
            "\n",
            " ================================================== 200th Chunk ================================================== \n",
            " But if you will listen to his letter, you may, perhaps, be a little\n",
            "softened by his manner of expressing himself.” “No, that I am sure I shall not: and I think it was very impertinent of\n",
            "him to write to you at all, and very hypocritical. I hate such false friends. Why could not he keep on quarrelling with you, as his father\n",
            "did before him?” “Why, indeed, he does seem to have had some filial scruples on that\n",
            "head, as you will hear.”\n",
            "\n",
            "     /* RIGHT “Hunsford, near Westerham, Kent, _15th October_. */ “Dear Sir, “The disagreement subsisting between yourself and my late honoured\n",
            "     father always gave me much uneasiness; and, since I have had the\n",
            "     misfortune to lose him, I have frequently wished to heal the breach: but, for some time, I was kept back by my own doubts,\n",
            "     fearing lest it might seem disrespectful to his memory for me to be\n",
            "     on good terms with anyone with whom it had always pleased him to be at variance.”--‘There, Mrs. Bennet.’--“My mind, however, is now\n",
            "     made up on the subject; for, having received ordination at Easter,\n",
            "\n",
            " ================================================== 201st Chunk ================================================== \n",
            " I have been so fortunate as to be distinguished by the patronage of\n",
            "     the Right Honourable Lady Catherine de Bourgh, widow of Sir Lewis\n",
            "     de Bourgh, whose bounty and beneficence has preferred me to the\n",
            "\n",
            "No token overlap found\n"
          ]
        }
      ]
    },
    {
      "cell_type": "code",
      "source": [
        "llm_chunker = LLMSemanticChunker(\n",
        "    organisation=\"openai\",\n",
        "    model_name=\"gpt-4o\",\n",
        "    api_key=api_key\n",
        ")\n",
        "\n",
        "llm_chunker_chunks = llm_chunker.split_text(document)\n",
        "\n",
        "analyze_chunks(llm_chunker_chunks, use_tokens=True)"
      ],
      "metadata": {
        "colab": {
          "base_uri": "https://localhost:8080/"
        },
        "id": "bQfSdKNeaHlZ",
        "outputId": "38b784bd-f8d6-44ac-b078-7658a8e6830e"
      },
      "execution_count": 36,
      "outputs": [
        {
          "output_type": "stream",
          "name": "stderr",
          "text": [
            "Processing chunks: 100%|█████████▉| 4869/4871 [13:36<00:00,  5.96it/s]"
          ]
        },
        {
          "output_type": "stream",
          "name": "stdout",
          "text": [
            "\n",
            "Number of Chunks: 670\n",
            "\n",
            " ================================================== 200th Chunk ================================================== \n",
            " “When I do myself the honour of speaking to you next on the subject, I\n",
            "shall hope to receive a more favourable answer than you have now given\n",
            "me; though I am far from accusing you of cruelty at present, because I know it to be the established custom of your sex to reject a man on the\n",
            "first application, and, perhaps, you have even now said as much to\n",
            "encourage my suit as would be consistent with the true delicacy of the female character.” “Really, Mr. Collins,” cried Elizabeth, with some warmth, “you puzzle me\n",
            "exceedingly. If what I have hitherto said can appear to you in the form of encouragement, I know not how to express my refusal in such a way as\n",
            "may convince you of its being one.” “You must give me leave to flatter myself, my dear cousin, that your\n",
            "refusal of my addresses are merely words of course. My reasons for believing it are briefly these:--It does not appear to me that my hand\n",
            "is unworthy of your acceptance, or that the establishment I can offer\n",
            "would be any other than highly desirable. My situation in life, my connections with the family of De Bourgh, and my relationship to your\n",
            "own, are circumstances highly in my favour; and you should take it into\n",
            "further consideration that, in spite of your manifold attractions, it is by no means certain that another offer of marriage may ever be made you.\n",
            "Your portion is unhappily so small, that it will in all likelihood undo\n",
            "the effects of your loveliness and amiable qualifications. As I must, therefore, conclude that you are not serious in your rejection of me, I\n",
            "shall choose to attribute it to your wish of increasing my love by\n",
            "suspense, according to the usual practice of elegant females.” “I do assure you, sir, that I have no pretensions whatever to that kind\n",
            "of elegance which consists in tormenting a respectable man. I would\n",
            "rather be paid the compliment of being believed sincere. I thank you again and again for the honour you have done me in your proposals, but\n",
            "to accept them is absolutely impossible. My feelings in every respect\n",
            "forbid it. Can I speak plainer? Do not consider me now as an elegant female intending to plague you, but as a rational creature speaking the\n",
            "truth from her heart.” “You are uniformly charming!” cried he, with an air of awkward\n",
            "gallantry; “and I am persuaded that, when sanctioned by the express\n",
            "authority of both your excellent parents, my proposals will not fail of\n",
            "being acceptable.” To such perseverance in wilful self-deception Elizabeth would make no\n",
            "reply, and immediately and in silence withdrew; determined, that if he\n",
            "persisted in considering her repeated refusals as flattering encouragement, to apply to her father, whose negative might be uttered\n",
            "in such a manner as must be decisive, and whose behaviour at least could\n",
            "not be mistaken for the affectation and coquetry of an elegant female.\n",
            "\n",
            " ================================================== 201st Chunk ================================================== \n",
            " [Illustration]\n",
            "\n",
            "\n",
            "\n",
            "\n",
            "CHAPTER XX.\n",
            "\n",
            "\n",
            "[Illustration]\n",
            "\n",
            "No token overlap found\n"
          ]
        },
        {
          "output_type": "stream",
          "name": "stderr",
          "text": [
            "\n"
          ]
        }
      ]
    }
  ]
}