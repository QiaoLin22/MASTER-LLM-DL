{
  "nbformat": 4,
  "nbformat_minor": 0,
  "metadata": {
    "colab": {
      "provenance": [],
      "machine_shape": "hm",
      "gpuType": "A100",
      "authorship_tag": "ABX9TyMcxCggKtXDjV3SqPfYSJ0k",
      "include_colab_link": true
    },
    "kernelspec": {
      "name": "python3",
      "display_name": "Python 3"
    },
    "language_info": {
      "name": "python"
    },
    "accelerator": "GPU"
  },
  "cells": [
    {
      "cell_type": "markdown",
      "metadata": {
        "id": "view-in-github",
        "colab_type": "text"
      },
      "source": [
        "<a href=\"https://colab.research.google.com/github/QiaoLin22/MASTER-LLM-DL/blob/main/llama3_from_scratch.ipynb\" target=\"_parent\"><img src=\"https://colab.research.google.com/assets/colab-badge.svg\" alt=\"Open In Colab\"/></a>"
      ]
    },
    {
      "cell_type": "code",
      "source": [
        "!pip install tiktoken\n",
        "!pip install blobfile"
      ],
      "metadata": {
        "colab": {
          "base_uri": "https://localhost:8080/"
        },
        "id": "l3O40M6q_oE9",
        "outputId": "b60f9dee-25c1-421e-d79c-1a79d4f5cf70"
      },
      "execution_count": 2,
      "outputs": [
        {
          "output_type": "stream",
          "name": "stdout",
          "text": [
            "Collecting tiktoken\n",
            "  Downloading tiktoken-0.8.0-cp310-cp310-manylinux_2_17_x86_64.manylinux2014_x86_64.whl.metadata (6.6 kB)\n",
            "Requirement already satisfied: regex>=2022.1.18 in /usr/local/lib/python3.10/dist-packages (from tiktoken) (2024.9.11)\n",
            "Requirement already satisfied: requests>=2.26.0 in /usr/local/lib/python3.10/dist-packages (from tiktoken) (2.32.3)\n",
            "Requirement already satisfied: charset-normalizer<4,>=2 in /usr/local/lib/python3.10/dist-packages (from requests>=2.26.0->tiktoken) (3.4.0)\n",
            "Requirement already satisfied: idna<4,>=2.5 in /usr/local/lib/python3.10/dist-packages (from requests>=2.26.0->tiktoken) (3.10)\n",
            "Requirement already satisfied: urllib3<3,>=1.21.1 in /usr/local/lib/python3.10/dist-packages (from requests>=2.26.0->tiktoken) (2.2.3)\n",
            "Requirement already satisfied: certifi>=2017.4.17 in /usr/local/lib/python3.10/dist-packages (from requests>=2.26.0->tiktoken) (2024.8.30)\n",
            "Downloading tiktoken-0.8.0-cp310-cp310-manylinux_2_17_x86_64.manylinux2014_x86_64.whl (1.2 MB)\n",
            "\u001b[2K   \u001b[90m━━━━━━━━━━━━━━━━━━━━━━━━━━━━━━━━━━━━━━━━\u001b[0m \u001b[32m1.2/1.2 MB\u001b[0m \u001b[31m14.0 MB/s\u001b[0m eta \u001b[36m0:00:00\u001b[0m\n",
            "\u001b[?25hInstalling collected packages: tiktoken\n",
            "Successfully installed tiktoken-0.8.0\n",
            "Collecting blobfile\n",
            "  Downloading blobfile-3.0.0-py3-none-any.whl.metadata (15 kB)\n",
            "Collecting pycryptodomex>=3.8 (from blobfile)\n",
            "  Downloading pycryptodomex-3.21.0-cp36-abi3-manylinux_2_17_x86_64.manylinux2014_x86_64.whl.metadata (3.4 kB)\n",
            "Requirement already satisfied: urllib3<3,>=1.25.3 in /usr/local/lib/python3.10/dist-packages (from blobfile) (2.2.3)\n",
            "Requirement already satisfied: lxml>=4.9 in /usr/local/lib/python3.10/dist-packages (from blobfile) (5.3.0)\n",
            "Requirement already satisfied: filelock>=3.0 in /usr/local/lib/python3.10/dist-packages (from blobfile) (3.16.1)\n",
            "Downloading blobfile-3.0.0-py3-none-any.whl (75 kB)\n",
            "\u001b[2K   \u001b[90m━━━━━━━━━━━━━━━━━━━━━━━━━━━━━━━━━━━━━━━━\u001b[0m \u001b[32m75.4/75.4 kB\u001b[0m \u001b[31m2.3 MB/s\u001b[0m eta \u001b[36m0:00:00\u001b[0m\n",
            "\u001b[?25hDownloading pycryptodomex-3.21.0-cp36-abi3-manylinux_2_17_x86_64.manylinux2014_x86_64.whl (2.3 MB)\n",
            "\u001b[2K   \u001b[90m━━━━━━━━━━━━━━━━━━━━━━━━━━━━━━━━━━━━━━━━\u001b[0m \u001b[32m2.3/2.3 MB\u001b[0m \u001b[31m35.8 MB/s\u001b[0m eta \u001b[36m0:00:00\u001b[0m\n",
            "\u001b[?25hInstalling collected packages: pycryptodomex, blobfile\n",
            "Successfully installed blobfile-3.0.0 pycryptodomex-3.21.0\n"
          ]
        }
      ]
    },
    {
      "cell_type": "code",
      "source": [
        "!pip install llama-stack"
      ],
      "metadata": {
        "colab": {
          "base_uri": "https://localhost:8080/"
        },
        "id": "d-3AHzG0A7qu",
        "outputId": "2de042fd-bae2-4784-c947-6fc847808cb8"
      },
      "execution_count": 3,
      "outputs": [
        {
          "output_type": "stream",
          "name": "stdout",
          "text": [
            "Collecting llama-stack\n",
            "  Downloading llama_stack-0.0.52-py3-none-any.whl.metadata (10 kB)\n",
            "Requirement already satisfied: blobfile in /usr/local/lib/python3.10/dist-packages (from llama-stack) (3.0.0)\n",
            "Collecting fire (from llama-stack)\n",
            "  Downloading fire-0.7.0.tar.gz (87 kB)\n",
            "\u001b[?25l     \u001b[90m━━━━━━━━━━━━━━━━━━━━━━━━━━━━━━━━━━━━━━━━\u001b[0m \u001b[32m0.0/87.2 kB\u001b[0m \u001b[31m?\u001b[0m eta \u001b[36m-:--:--\u001b[0m\r\u001b[2K     \u001b[90m━━━━━━━━━━━━━━━━━━━━━━━━━━━━━━━━━━━━━━━━\u001b[0m \u001b[32m87.2/87.2 kB\u001b[0m \u001b[31m2.4 MB/s\u001b[0m eta \u001b[36m0:00:00\u001b[0m\n",
            "\u001b[?25h  Preparing metadata (setup.py) ... \u001b[?25l\u001b[?25hdone\n",
            "Requirement already satisfied: httpx in /usr/local/lib/python3.10/dist-packages (from llama-stack) (0.27.2)\n",
            "Requirement already satisfied: huggingface-hub in /usr/local/lib/python3.10/dist-packages (from llama-stack) (0.26.2)\n",
            "Collecting llama-models>=0.0.49 (from llama-stack)\n",
            "  Downloading llama_models-0.0.50-py3-none-any.whl.metadata (8.3 kB)\n",
            "Requirement already satisfied: prompt-toolkit in /usr/local/lib/python3.10/dist-packages (from llama-stack) (3.0.48)\n",
            "Collecting python-dotenv (from llama-stack)\n",
            "  Downloading python_dotenv-1.0.1-py3-none-any.whl.metadata (23 kB)\n",
            "Requirement already satisfied: pydantic>=2 in /usr/local/lib/python3.10/dist-packages (from llama-stack) (2.9.2)\n",
            "Requirement already satisfied: requests in /usr/local/lib/python3.10/dist-packages (from llama-stack) (2.32.3)\n",
            "Requirement already satisfied: rich in /usr/local/lib/python3.10/dist-packages (from llama-stack) (13.9.4)\n",
            "Requirement already satisfied: setuptools in /usr/local/lib/python3.10/dist-packages (from llama-stack) (75.1.0)\n",
            "Requirement already satisfied: termcolor in /usr/local/lib/python3.10/dist-packages (from llama-stack) (2.5.0)\n",
            "Requirement already satisfied: PyYAML in /usr/local/lib/python3.10/dist-packages (from llama-models>=0.0.49->llama-stack) (6.0.2)\n",
            "Requirement already satisfied: jinja2 in /usr/local/lib/python3.10/dist-packages (from llama-models>=0.0.49->llama-stack) (3.1.4)\n",
            "Requirement already satisfied: tiktoken in /usr/local/lib/python3.10/dist-packages (from llama-models>=0.0.49->llama-stack) (0.8.0)\n",
            "Requirement already satisfied: Pillow in /usr/local/lib/python3.10/dist-packages (from llama-models>=0.0.49->llama-stack) (11.0.0)\n",
            "Requirement already satisfied: annotated-types>=0.6.0 in /usr/local/lib/python3.10/dist-packages (from pydantic>=2->llama-stack) (0.7.0)\n",
            "Requirement already satisfied: pydantic-core==2.23.4 in /usr/local/lib/python3.10/dist-packages (from pydantic>=2->llama-stack) (2.23.4)\n",
            "Requirement already satisfied: typing-extensions>=4.6.1 in /usr/local/lib/python3.10/dist-packages (from pydantic>=2->llama-stack) (4.12.2)\n",
            "Requirement already satisfied: pycryptodomex>=3.8 in /usr/local/lib/python3.10/dist-packages (from blobfile->llama-stack) (3.21.0)\n",
            "Requirement already satisfied: urllib3<3,>=1.25.3 in /usr/local/lib/python3.10/dist-packages (from blobfile->llama-stack) (2.2.3)\n",
            "Requirement already satisfied: lxml>=4.9 in /usr/local/lib/python3.10/dist-packages (from blobfile->llama-stack) (5.3.0)\n",
            "Requirement already satisfied: filelock>=3.0 in /usr/local/lib/python3.10/dist-packages (from blobfile->llama-stack) (3.16.1)\n",
            "Requirement already satisfied: anyio in /usr/local/lib/python3.10/dist-packages (from httpx->llama-stack) (3.7.1)\n",
            "Requirement already satisfied: certifi in /usr/local/lib/python3.10/dist-packages (from httpx->llama-stack) (2024.8.30)\n",
            "Requirement already satisfied: httpcore==1.* in /usr/local/lib/python3.10/dist-packages (from httpx->llama-stack) (1.0.6)\n",
            "Requirement already satisfied: idna in /usr/local/lib/python3.10/dist-packages (from httpx->llama-stack) (3.10)\n",
            "Requirement already satisfied: sniffio in /usr/local/lib/python3.10/dist-packages (from httpx->llama-stack) (1.3.1)\n",
            "Requirement already satisfied: h11<0.15,>=0.13 in /usr/local/lib/python3.10/dist-packages (from httpcore==1.*->httpx->llama-stack) (0.14.0)\n",
            "Requirement already satisfied: fsspec>=2023.5.0 in /usr/local/lib/python3.10/dist-packages (from huggingface-hub->llama-stack) (2024.10.0)\n",
            "Requirement already satisfied: packaging>=20.9 in /usr/local/lib/python3.10/dist-packages (from huggingface-hub->llama-stack) (24.2)\n",
            "Requirement already satisfied: tqdm>=4.42.1 in /usr/local/lib/python3.10/dist-packages (from huggingface-hub->llama-stack) (4.66.6)\n",
            "Requirement already satisfied: wcwidth in /usr/local/lib/python3.10/dist-packages (from prompt-toolkit->llama-stack) (0.2.13)\n",
            "Requirement already satisfied: charset-normalizer<4,>=2 in /usr/local/lib/python3.10/dist-packages (from requests->llama-stack) (3.4.0)\n",
            "Requirement already satisfied: markdown-it-py>=2.2.0 in /usr/local/lib/python3.10/dist-packages (from rich->llama-stack) (3.0.0)\n",
            "Requirement already satisfied: pygments<3.0.0,>=2.13.0 in /usr/local/lib/python3.10/dist-packages (from rich->llama-stack) (2.18.0)\n",
            "Requirement already satisfied: mdurl~=0.1 in /usr/local/lib/python3.10/dist-packages (from markdown-it-py>=2.2.0->rich->llama-stack) (0.1.2)\n",
            "Requirement already satisfied: exceptiongroup in /usr/local/lib/python3.10/dist-packages (from anyio->httpx->llama-stack) (1.2.2)\n",
            "Requirement already satisfied: MarkupSafe>=2.0 in /usr/local/lib/python3.10/dist-packages (from jinja2->llama-models>=0.0.49->llama-stack) (3.0.2)\n",
            "Requirement already satisfied: regex>=2022.1.18 in /usr/local/lib/python3.10/dist-packages (from tiktoken->llama-models>=0.0.49->llama-stack) (2024.9.11)\n",
            "Downloading llama_stack-0.0.52-py3-none-any.whl (332 kB)\n",
            "\u001b[2K   \u001b[90m━━━━━━━━━━━━━━━━━━━━━━━━━━━━━━━━━━━━━━━━\u001b[0m \u001b[32m333.0/333.0 kB\u001b[0m \u001b[31m8.8 MB/s\u001b[0m eta \u001b[36m0:00:00\u001b[0m\n",
            "\u001b[?25hDownloading llama_models-0.0.50-py3-none-any.whl (1.6 MB)\n",
            "\u001b[2K   \u001b[90m━━━━━━━━━━━━━━━━━━━━━━━━━━━━━━━━━━━━━━━━\u001b[0m \u001b[32m1.6/1.6 MB\u001b[0m \u001b[31m42.9 MB/s\u001b[0m eta \u001b[36m0:00:00\u001b[0m\n",
            "\u001b[?25hDownloading python_dotenv-1.0.1-py3-none-any.whl (19 kB)\n",
            "Building wheels for collected packages: fire\n",
            "  Building wheel for fire (setup.py) ... \u001b[?25l\u001b[?25hdone\n",
            "  Created wheel for fire: filename=fire-0.7.0-py3-none-any.whl size=114249 sha256=6917cc6a91cf4c3f49b7968a1e586dcbdf040fa8168750c5cf1956c79db85292\n",
            "  Stored in directory: /root/.cache/pip/wheels/19/39/2f/2d3cadc408a8804103f1c34ddd4b9f6a93497b11fa96fe738e\n",
            "Successfully built fire\n",
            "Installing collected packages: python-dotenv, fire, llama-models, llama-stack\n",
            "Successfully installed fire-0.7.0 llama-models-0.0.50 llama-stack-0.0.52 python-dotenv-1.0.1\n"
          ]
        }
      ]
    },
    {
      "cell_type": "code",
      "source": [
        "!llama model list"
      ],
      "metadata": {
        "colab": {
          "base_uri": "https://localhost:8080/"
        },
        "id": "rsD0McTHBBxy",
        "outputId": "3f1767d1-3873-4c06-8a9c-9a17306ccd45"
      },
      "execution_count": 4,
      "outputs": [
        {
          "output_type": "stream",
          "name": "stdout",
          "text": [
            "+-----------------------------------------+-----------------------------------------------------+----------------+\n",
            "\u001b[1m\u001b[97m| Model Descriptor                        | Hugging Face Repo                                   | Context Length |\u001b[0m\n",
            "+-----------------------------------------+-----------------------------------------------------+----------------+\n",
            "| Llama3.1-8B                             | meta-llama/Llama-3.1-8B                             | 128K           |\n",
            "+-----------------------------------------+-----------------------------------------------------+----------------+\n",
            "| Llama3.1-70B                            | meta-llama/Llama-3.1-70B                            | 128K           |\n",
            "+-----------------------------------------+-----------------------------------------------------+----------------+\n",
            "| Llama3.1-405B:bf16-mp8                  | meta-llama/Llama-3.1-405B                           | 128K           |\n",
            "+-----------------------------------------+-----------------------------------------------------+----------------+\n",
            "| Llama3.1-405B                           | meta-llama/Llama-3.1-405B-FP8                       | 128K           |\n",
            "+-----------------------------------------+-----------------------------------------------------+----------------+\n",
            "| Llama3.1-405B:bf16-mp16                 | meta-llama/Llama-3.1-405B                           | 128K           |\n",
            "+-----------------------------------------+-----------------------------------------------------+----------------+\n",
            "| Llama3.1-8B-Instruct                    | meta-llama/Llama-3.1-8B-Instruct                    | 128K           |\n",
            "+-----------------------------------------+-----------------------------------------------------+----------------+\n",
            "| Llama3.1-70B-Instruct                   | meta-llama/Llama-3.1-70B-Instruct                   | 128K           |\n",
            "+-----------------------------------------+-----------------------------------------------------+----------------+\n",
            "| Llama3.1-405B-Instruct:bf16-mp8         | meta-llama/Llama-3.1-405B-Instruct                  | 128K           |\n",
            "+-----------------------------------------+-----------------------------------------------------+----------------+\n",
            "| Llama3.1-405B-Instruct                  | meta-llama/Llama-3.1-405B-Instruct-FP8              | 128K           |\n",
            "+-----------------------------------------+-----------------------------------------------------+----------------+\n",
            "| Llama3.1-405B-Instruct:bf16-mp16        | meta-llama/Llama-3.1-405B-Instruct                  | 128K           |\n",
            "+-----------------------------------------+-----------------------------------------------------+----------------+\n",
            "| Llama3.2-1B                             | meta-llama/Llama-3.2-1B                             | 128K           |\n",
            "+-----------------------------------------+-----------------------------------------------------+----------------+\n",
            "| Llama3.2-3B                             | meta-llama/Llama-3.2-3B                             | 128K           |\n",
            "+-----------------------------------------+-----------------------------------------------------+----------------+\n",
            "| Llama3.2-11B-Vision                     | meta-llama/Llama-3.2-11B-Vision                     | 128K           |\n",
            "+-----------------------------------------+-----------------------------------------------------+----------------+\n",
            "| Llama3.2-90B-Vision                     | meta-llama/Llama-3.2-90B-Vision                     | 128K           |\n",
            "+-----------------------------------------+-----------------------------------------------------+----------------+\n",
            "| Llama3.2-1B-Instruct                    | meta-llama/Llama-3.2-1B-Instruct                    | 128K           |\n",
            "+-----------------------------------------+-----------------------------------------------------+----------------+\n",
            "| Llama3.2-3B-Instruct                    | meta-llama/Llama-3.2-3B-Instruct                    | 128K           |\n",
            "+-----------------------------------------+-----------------------------------------------------+----------------+\n",
            "| Llama3.2-1B-Instruct:int4-qlora-eo8     | meta-llama/Llama-3.2-1B-Instruct-QLORA_INT4_EO8     | 8K             |\n",
            "+-----------------------------------------+-----------------------------------------------------+----------------+\n",
            "| Llama3.2-1B-Instruct:int4-spinquant-eo8 | meta-llama/Llama-3.2-1B-Instruct-SpinQuant_INT4_EO8 | 8K             |\n",
            "+-----------------------------------------+-----------------------------------------------------+----------------+\n",
            "| Llama3.2-3B-Instruct:int4-qlora-eo8     | meta-llama/Llama-3.2-3B-Instruct-QLORA_INT4_EO8     | 8K             |\n",
            "+-----------------------------------------+-----------------------------------------------------+----------------+\n",
            "| Llama3.2-3B-Instruct:int4-spinquant-eo8 | meta-llama/Llama-3.2-3B-Instruct-SpinQuant_INT4_EO8 | 8K             |\n",
            "+-----------------------------------------+-----------------------------------------------------+----------------+\n",
            "| Llama3.2-11B-Vision-Instruct            | meta-llama/Llama-3.2-11B-Vision-Instruct            | 128K           |\n",
            "+-----------------------------------------+-----------------------------------------------------+----------------+\n",
            "| Llama3.2-90B-Vision-Instruct            | meta-llama/Llama-3.2-90B-Vision-Instruct            | 128K           |\n",
            "+-----------------------------------------+-----------------------------------------------------+----------------+\n",
            "| Llama-Guard-3-11B-Vision                | meta-llama/Llama-Guard-3-11B-Vision                 | 128K           |\n",
            "+-----------------------------------------+-----------------------------------------------------+----------------+\n",
            "| Llama-Guard-3-1B:int4                   | meta-llama/Llama-Guard-3-1B-INT4                    | 128K           |\n",
            "+-----------------------------------------+-----------------------------------------------------+----------------+\n",
            "| Llama-Guard-3-1B                        | meta-llama/Llama-Guard-3-1B                         | 128K           |\n",
            "+-----------------------------------------+-----------------------------------------------------+----------------+\n",
            "| Llama-Guard-3-8B                        | meta-llama/Llama-Guard-3-8B                         | 128K           |\n",
            "+-----------------------------------------+-----------------------------------------------------+----------------+\n",
            "| Llama-Guard-3-8B:int8                   | meta-llama/Llama-Guard-3-8B-INT8                    | 128K           |\n",
            "+-----------------------------------------+-----------------------------------------------------+----------------+\n",
            "| Llama-Guard-2-8B                        | meta-llama/Llama-Guard-2-8B                         | 4K             |\n",
            "+-----------------------------------------+-----------------------------------------------------+----------------+\n"
          ]
        }
      ]
    },
    {
      "cell_type": "code",
      "source": [
        "!llama download --source meta --model-id Llama3.1-8B"
      ],
      "metadata": {
        "colab": {
          "base_uri": "https://localhost:8080/"
        },
        "id": "-kQK2Y2NBN_n",
        "outputId": "23e3e1b4-cfcf-4c68-e6f6-46ee037f02e8"
      },
      "execution_count": 5,
      "outputs": [
        {
          "output_type": "stream",
          "name": "stdout",
          "text": [
            "Please provide the signed URL for model Llama3.1-8B you received via email after visiting https://www.llama.com/llama-downloads/ (e.g., https://llama3-1.llamameta.net/*?Policy...): https://llama3-1.llamameta.net/*?Policy=eyJTdGF0ZW1lbnQiOlt7InVuaXF1ZV9oYXNoIjoibHFxeXIycXB3dHk3NXFscGh2ZjZyeHptIiwiUmVzb3VyY2UiOiJodHRwczpcL1wvbGxhbWEzLTEubGxhbWFtZXRhLm5ldFwvKiIsIkNvbmRpdGlvbiI6eyJEYXRlTGVzc1RoYW4iOnsiQVdTOkVwb2NoVGltZSI6MTczMTYxNTE2Nn19fV19&Signature=rKz-AtAbHGDC5b2SKpxwCEh5PTExAjbmtvVGo64a2YHYYilGkvmorOz6xNW2dVYyEszldsJsPYMEHZhrEvQ9Hm%7EsthIsudyRuospbYU8MAwXCg71ODQQdmIMclxOYvCabeWRVwC-DtHKDITUN5mnXt12KNNcfeAF8BnUEZVlKtVw2x9BQ2kwCbRTpKloWgKD4rqCBsgqBEO93axIOWZtAVODlQlz2hIjwapVaZvHVbHhvB7ME6v3BK1lTOmciaB1ZwZr498ZFbgeTC8xE51-dGCje61x5yINR9hplZKYHIAi8jigre8DLpCiEGdQwjSlL92a5E-G34fn25uX-tlMMg__&Key-Pair-Id=K15QRJLYKIFSLZ&Download-Request-ID=1098074802020669\n",
            "\u001b[97mDownloading `checklist.chk`...\u001b[0m\n",
            "Downloading `/root/.llama/checkpoints/Llama3.1-8B/checklist.chk`....{'Range': 'bytes=0-150'}\n",
            "Progress: |██████████████████████████████████████████████████| 100.00% (0/0 MB) Speed: 0.00 MiB/s\n",
            "Finished downloading `/root/.llama/checkpoints/Llama3.1-8B/checklist.chk`....\n",
            "\u001b[97mDownloading `tokenizer.model`...\u001b[0m\n",
            "Downloading `/root/.llama/checkpoints/Llama3.1-8B/tokenizer.model`....{'Range': 'bytes=0-2183982'}\n",
            "Progress: |██████████████████████████████████████████████████| 100.00% (2/2 MB) Speed: 7.28 MiB/s\n",
            "Finished downloading `/root/.llama/checkpoints/Llama3.1-8B/tokenizer.model`....\n",
            "\u001b[97mDownloading `params.json`...\u001b[0m\n",
            "Downloading `/root/.llama/checkpoints/Llama3.1-8B/params.json`....{'Range': 'bytes=0-199'}\n",
            "Progress: |██████████████████████████████████████████████████| 100.00% (0/0 MB) Speed: 0.00 MiB/s\n",
            "Finished downloading `/root/.llama/checkpoints/Llama3.1-8B/params.json`....\n",
            "\u001b[97mDownloading `consolidated.00.pth`...\u001b[0m\n",
            "Downloading `/root/.llama/checkpoints/Llama3.1-8B/consolidated.00.pth`....{'Range': 'bytes=0-16060621688'}\n",
            "Progress: |██████████████████████████████████████████████████| 100.00% (15316/15316 MB) Speed: 35.02 MiB/s\n",
            "Finished downloading `/root/.llama/checkpoints/Llama3.1-8B/consolidated.00.pth`....\n",
            "\n",
            "Successfully downloaded model to /root/.llama/checkpoints/Llama3.1-8B\n",
            "\u001b[97m\n",
            "MD5 Checksums are at: /root/.llama/checkpoints/Llama3.1-8B/checklist.chk\u001b[0m\n"
          ]
        }
      ]
    },
    {
      "cell_type": "code",
      "source": [
        "!cd /root/.llama/checkpoints/Llama3.1-8B\n",
        "!ls /root/.llama/checkpoints/Llama3.1-8B"
      ],
      "metadata": {
        "colab": {
          "base_uri": "https://localhost:8080/"
        },
        "id": "IpUifNkCFCnp",
        "outputId": "6bfdc9e5-af6c-4dd4-f0f0-6b6b4fd82afa"
      },
      "execution_count": 6,
      "outputs": [
        {
          "output_type": "stream",
          "name": "stdout",
          "text": [
            "checklist.chk  consolidated.00.pth  params.json  tokenizer.model\n"
          ]
        }
      ]
    },
    {
      "cell_type": "code",
      "execution_count": 8,
      "metadata": {
        "colab": {
          "base_uri": "https://localhost:8080/",
          "height": 35
        },
        "id": "-zYZDpEb_hKC",
        "outputId": "02313fba-d6bc-4e34-fc58-afb5e988009f"
      },
      "outputs": [
        {
          "output_type": "execute_result",
          "data": {
            "text/plain": [
              "'hello world!'"
            ],
            "application/vnd.google.colaboratory.intrinsic+json": {
              "type": "string"
            }
          },
          "metadata": {},
          "execution_count": 8
        }
      ],
      "source": [
        "from pathlib import Path\n",
        "import tiktoken\n",
        "from tiktoken.load import load_tiktoken_bpe\n",
        "import torch\n",
        "import json\n",
        "import matplotlib.pyplot as plt\n",
        "\n",
        "tokenizer_path = \"/root/.llama/checkpoints/Llama3.1-8B/tokenizer.model\"\n",
        "special_tokens = [\n",
        "            \"<|begin_of_text|>\",\n",
        "            \"<|end_of_text|>\",\n",
        "            \"<|reserved_special_token_0|>\",\n",
        "            \"<|reserved_special_token_1|>\",\n",
        "            \"<|reserved_special_token_2|>\",\n",
        "            \"<|reserved_special_token_3|>\",\n",
        "            \"<|start_header_id|>\",\n",
        "            \"<|end_header_id|>\",\n",
        "            \"<|reserved_special_token_4|>\",\n",
        "            \"<|eot_id|>\",  # end of turn\n",
        "        ] + [f\"<|reserved_special_token_{i}|>\" for i in range(5, 256 - 5)]\n",
        "mergeable_ranks = load_tiktoken_bpe(tokenizer_path)\n",
        "tokenizer = tiktoken.Encoding(\n",
        "    name=Path(tokenizer_path).name,\n",
        "    pat_str=r\"(?i:'s|'t|'re|'ve|'m|'ll|'d)|[^\\r\\n\\p{L}\\p{N}]?\\p{L}+|\\p{N}{1,3}| ?[^\\s\\p{L}\\p{N}]+[\\r\\n]*|\\s*[\\r\\n]+|\\s+(?!\\S)|\\s+\",\n",
        "    mergeable_ranks=mergeable_ranks,\n",
        "    special_tokens={token: len(mergeable_ranks) + i for i, token in enumerate(special_tokens)},\n",
        ")\n",
        "\n",
        "tokenizer.decode(tokenizer.encode(\"hello world!\"))"
      ]
    },
    {
      "cell_type": "code",
      "source": [
        "model = torch.load(\"/root/.llama/checkpoints/Llama3.1-8B/consolidated.00.pth\")\n",
        "print(json.dumps(list(model.keys())[:20], indent=4))"
      ],
      "metadata": {
        "colab": {
          "base_uri": "https://localhost:8080/"
        },
        "id": "cxRJYs1kF0uF",
        "outputId": "e2818cf9-b761-43c6-ff57-1453ee4476de"
      },
      "execution_count": 9,
      "outputs": [
        {
          "output_type": "stream",
          "name": "stderr",
          "text": [
            "<ipython-input-9-5ea0fe159ca0>:1: FutureWarning: You are using `torch.load` with `weights_only=False` (the current default value), which uses the default pickle module implicitly. It is possible to construct malicious pickle data which will execute arbitrary code during unpickling (See https://github.com/pytorch/pytorch/blob/main/SECURITY.md#untrusted-models for more details). In a future release, the default value for `weights_only` will be flipped to `True`. This limits the functions that could be executed during unpickling. Arbitrary objects will no longer be allowed to be loaded via this mode unless they are explicitly allowlisted by the user via `torch.serialization.add_safe_globals`. We recommend you start setting `weights_only=True` for any use case where you don't have full control of the loaded file. Please open an issue on GitHub for any issues related to this experimental feature.\n",
            "  model = torch.load(\"/root/.llama/checkpoints/Llama3.1-8B/consolidated.00.pth\")\n"
          ]
        },
        {
          "output_type": "stream",
          "name": "stdout",
          "text": [
            "[\n",
            "    \"tok_embeddings.weight\",\n",
            "    \"layers.0.attention.wq.weight\",\n",
            "    \"layers.0.attention.wk.weight\",\n",
            "    \"layers.0.attention.wv.weight\",\n",
            "    \"layers.0.attention.wo.weight\",\n",
            "    \"layers.0.feed_forward.w1.weight\",\n",
            "    \"layers.0.feed_forward.w3.weight\",\n",
            "    \"layers.0.feed_forward.w2.weight\",\n",
            "    \"layers.0.attention_norm.weight\",\n",
            "    \"layers.0.ffn_norm.weight\",\n",
            "    \"layers.1.attention.wq.weight\",\n",
            "    \"layers.1.attention.wk.weight\",\n",
            "    \"layers.1.attention.wv.weight\",\n",
            "    \"layers.1.attention.wo.weight\",\n",
            "    \"layers.1.feed_forward.w1.weight\",\n",
            "    \"layers.1.feed_forward.w3.weight\",\n",
            "    \"layers.1.feed_forward.w2.weight\",\n",
            "    \"layers.1.attention_norm.weight\",\n",
            "    \"layers.1.ffn_norm.weight\",\n",
            "    \"layers.2.attention.wq.weight\"\n",
            "]\n"
          ]
        }
      ]
    },
    {
      "cell_type": "code",
      "source": [
        "with open(\"/root/.llama/checkpoints/Llama3.1-8B/params.json\", \"r\") as f:\n",
        "    config = json.load(f)\n",
        "config"
      ],
      "metadata": {
        "colab": {
          "base_uri": "https://localhost:8080/"
        },
        "id": "imODIVadJi8g",
        "outputId": "ee35993a-0ced-495d-aaaf-07ae561e0d01"
      },
      "execution_count": 11,
      "outputs": [
        {
          "output_type": "execute_result",
          "data": {
            "text/plain": [
              "{'dim': 4096,\n",
              " 'ffn_dim_multiplier': 1.3,\n",
              " 'multiple_of': 1024,\n",
              " 'n_heads': 32,\n",
              " 'n_kv_heads': 8,\n",
              " 'n_layers': 32,\n",
              " 'norm_eps': 1e-05,\n",
              " 'rope_theta': 500000.0,\n",
              " 'use_scaled_rope': True,\n",
              " 'vocab_size': 128256}"
            ]
          },
          "metadata": {},
          "execution_count": 11
        }
      ]
    },
    {
      "cell_type": "code",
      "source": [
        "dim = config[\"dim\"]\n",
        "n_layers = config[\"n_layers\"]\n",
        "n_heads = config[\"n_heads\"]\n",
        "n_kv_heads = config[\"n_kv_heads\"]\n",
        "vocab_size = config[\"vocab_size\"]\n",
        "multiple_of = config[\"multiple_of\"]\n",
        "ffn_dim_multiplier = config[\"ffn_dim_multiplier\"]\n",
        "norm_eps = config[\"norm_eps\"]\n",
        "rope_theta = torch.tensor(config[\"rope_theta\"])"
      ],
      "metadata": {
        "id": "SF9OxCd7Jsyh"
      },
      "execution_count": 12,
      "outputs": []
    },
    {
      "cell_type": "code",
      "source": [
        "prompt = \"the answer to the ultimate question of life, the universe, and everything is \"\n",
        "tokens = [128000] + tokenizer.encode(prompt)\n",
        "print(tokens)\n",
        "tokens = torch.tensor(tokens)\n",
        "prompt_split_as_tokens = [tokenizer.decode([token.item()]) for token in tokens]\n",
        "print(prompt_split_as_tokens)\n",
        "print(len(prompt_split_as_tokens))"
      ],
      "metadata": {
        "colab": {
          "base_uri": "https://localhost:8080/"
        },
        "id": "1pV-8STBJy8B",
        "outputId": "e2764c21-94fd-416c-9c3b-b23010057f84"
      },
      "execution_count": 16,
      "outputs": [
        {
          "output_type": "stream",
          "name": "stdout",
          "text": [
            "[128000, 1820, 4320, 311, 279, 17139, 3488, 315, 2324, 11, 279, 15861, 11, 323, 4395, 374, 220]\n",
            "['<|begin_of_text|>', 'the', ' answer', ' to', ' the', ' ultimate', ' question', ' of', ' life', ',', ' the', ' universe', ',', ' and', ' everything', ' is', ' ']\n",
            "17\n"
          ]
        }
      ]
    },
    {
      "cell_type": "code",
      "source": [
        "embedding_layer = torch.nn.Embedding(vocab_size, dim)\n",
        "embedding_layer.weight.data.copy_(model[\"tok_embeddings.weight\"])\n",
        "token_embeddings_unnormalized = embedding_layer(tokens).to(torch.bfloat16)\n",
        "token_embeddings_unnormalized.shape"
      ],
      "metadata": {
        "colab": {
          "base_uri": "https://localhost:8080/"
        },
        "id": "kYAg8JG7KLqH",
        "outputId": "e499e4ba-a787-49f1-c633-1ff083763542"
      },
      "execution_count": 17,
      "outputs": [
        {
          "output_type": "execute_result",
          "data": {
            "text/plain": [
              "torch.Size([17, 4096])"
            ]
          },
          "metadata": {},
          "execution_count": 17
        }
      ]
    },
    {
      "cell_type": "code",
      "source": [
        "def rms_norm(tensor, norm_weights):\n",
        "    return (tensor * torch.rsqrt(tensor.pow(2).mean(-1, keepdim=True) + norm_eps)) * norm_weights"
      ],
      "metadata": {
        "id": "sTto9SEYMecW"
      },
      "execution_count": 18,
      "outputs": []
    },
    {
      "cell_type": "code",
      "source": [
        "device = torch.device(\"cuda\" if torch.cuda.is_available() else \"cpu\")\n",
        "token_embeddings_unnormalized = token_embeddings_unnormalized.to(device)\n",
        "model[\"layers.0.attention_norm.weight\"] = model[\"layers.0.attention_norm.weight\"].to(device)\n",
        "# Apply normalization on the same device\n",
        "token_embeddings = rms_norm(token_embeddings_unnormalized, model[\"layers.0.attention_norm.weight\"])\n",
        "# token_embeddings = rms_norm(token_embeddings_unnormalized, model[\"layers.0.attention_norm.weight\"])\n",
        "token_embeddings.shape"
      ],
      "metadata": {
        "colab": {
          "base_uri": "https://localhost:8080/"
        },
        "id": "1gEfRy3ZMoXW",
        "outputId": "53ebd00e-1f6d-44fb-f8a7-76e5712c91e5"
      },
      "execution_count": 20,
      "outputs": [
        {
          "output_type": "execute_result",
          "data": {
            "text/plain": [
              "torch.Size([17, 4096])"
            ]
          },
          "metadata": {},
          "execution_count": 20
        }
      ]
    },
    {
      "cell_type": "code",
      "source": [
        "print(\n",
        "    model[\"layers.0.attention.wq.weight\"].shape,\n",
        "    model[\"layers.0.attention.wk.weight\"].shape,\n",
        "    model[\"layers.0.attention.wv.weight\"].shape,\n",
        "    model[\"layers.0.attention.wo.weight\"].shape\n",
        ")"
      ],
      "metadata": {
        "colab": {
          "base_uri": "https://localhost:8080/"
        },
        "id": "NpJagUZqNx5B",
        "outputId": "246cf269-2a6a-49cf-9a39-ab51e2e3fa8f"
      },
      "execution_count": 21,
      "outputs": [
        {
          "output_type": "stream",
          "name": "stdout",
          "text": [
            "torch.Size([4096, 4096]) torch.Size([1024, 4096]) torch.Size([1024, 4096]) torch.Size([4096, 4096])\n"
          ]
        }
      ]
    },
    {
      "cell_type": "code",
      "source": [
        "q_layer0 = model[\"layers.0.attention.wq.weight\"]\n",
        "head_dim = q_layer0.shape[0] // n_heads\n",
        "q_layer0 = q_layer0.view(n_heads, head_dim, dim)\n",
        "q_layer0.shape"
      ],
      "metadata": {
        "colab": {
          "base_uri": "https://localhost:8080/"
        },
        "id": "83XmIhUiN0Lb",
        "outputId": "8507d3c9-47a9-43d0-93f2-2f31dacc0557"
      },
      "execution_count": 22,
      "outputs": [
        {
          "output_type": "execute_result",
          "data": {
            "text/plain": [
              "torch.Size([32, 128, 4096])"
            ]
          },
          "metadata": {},
          "execution_count": 22
        }
      ]
    },
    {
      "cell_type": "code",
      "source": [
        "q_layer0_head0 = q_layer0[0]\n",
        "q_layer0_head0.shape"
      ],
      "metadata": {
        "colab": {
          "base_uri": "https://localhost:8080/"
        },
        "id": "OEdanef7N4Zp",
        "outputId": "88dea21d-1ec6-4fb1-f582-81ad34928e98"
      },
      "execution_count": 23,
      "outputs": [
        {
          "output_type": "execute_result",
          "data": {
            "text/plain": [
              "torch.Size([128, 4096])"
            ]
          },
          "metadata": {},
          "execution_count": 23
        }
      ]
    },
    {
      "cell_type": "code",
      "source": [
        "q_per_token = torch.matmul(token_embeddings, q_layer0_head0.T)\n",
        "q_per_token.shape"
      ],
      "metadata": {
        "colab": {
          "base_uri": "https://localhost:8080/"
        },
        "id": "zHN3H9uIN-9A",
        "outputId": "1a1df086-a94a-4fdd-a6a4-3bcc257e4f1c"
      },
      "execution_count": 24,
      "outputs": [
        {
          "output_type": "execute_result",
          "data": {
            "text/plain": [
              "torch.Size([17, 128])"
            ]
          },
          "metadata": {},
          "execution_count": 24
        }
      ]
    },
    {
      "cell_type": "code",
      "source": [
        "q_per_token_split_into_pairs = q_per_token.float().view(q_per_token.shape[0], -1, 2)\n",
        "q_per_token_split_into_pairs.shape"
      ],
      "metadata": {
        "colab": {
          "base_uri": "https://localhost:8080/"
        },
        "id": "OJ9sjWG9OGK2",
        "outputId": "0d2e7dc5-4d1d-4b68-a940-bea259fcbd82"
      },
      "execution_count": 25,
      "outputs": [
        {
          "output_type": "execute_result",
          "data": {
            "text/plain": [
              "torch.Size([17, 64, 2])"
            ]
          },
          "metadata": {},
          "execution_count": 25
        }
      ]
    },
    {
      "cell_type": "code",
      "source": [
        "zero_to_one_split_into_64_parts = torch.tensor(range(64))/64\n",
        "zero_to_one_split_into_64_parts"
      ],
      "metadata": {
        "colab": {
          "base_uri": "https://localhost:8080/"
        },
        "id": "lHJiTVHdOKG6",
        "outputId": "4c93d7cc-4bd7-4ff1-d8be-3b6fb9b149fa"
      },
      "execution_count": 26,
      "outputs": [
        {
          "output_type": "execute_result",
          "data": {
            "text/plain": [
              "tensor([0.0000, 0.0156, 0.0312, 0.0469, 0.0625, 0.0781, 0.0938, 0.1094, 0.1250,\n",
              "        0.1406, 0.1562, 0.1719, 0.1875, 0.2031, 0.2188, 0.2344, 0.2500, 0.2656,\n",
              "        0.2812, 0.2969, 0.3125, 0.3281, 0.3438, 0.3594, 0.3750, 0.3906, 0.4062,\n",
              "        0.4219, 0.4375, 0.4531, 0.4688, 0.4844, 0.5000, 0.5156, 0.5312, 0.5469,\n",
              "        0.5625, 0.5781, 0.5938, 0.6094, 0.6250, 0.6406, 0.6562, 0.6719, 0.6875,\n",
              "        0.7031, 0.7188, 0.7344, 0.7500, 0.7656, 0.7812, 0.7969, 0.8125, 0.8281,\n",
              "        0.8438, 0.8594, 0.8750, 0.8906, 0.9062, 0.9219, 0.9375, 0.9531, 0.9688,\n",
              "        0.9844])"
            ]
          },
          "metadata": {},
          "execution_count": 26
        }
      ]
    },
    {
      "cell_type": "code",
      "source": [
        "freqs = 1.0 / (rope_theta ** zero_to_one_split_into_64_parts)\n",
        "freqs"
      ],
      "metadata": {
        "colab": {
          "base_uri": "https://localhost:8080/"
        },
        "id": "YECFnKdBOLgj",
        "outputId": "4ab63332-08c0-4da7-99dd-4360766a2a3a"
      },
      "execution_count": 27,
      "outputs": [
        {
          "output_type": "execute_result",
          "data": {
            "text/plain": [
              "tensor([1.0000e+00, 8.1462e-01, 6.6360e-01, 5.4058e-01, 4.4037e-01, 3.5873e-01,\n",
              "        2.9223e-01, 2.3805e-01, 1.9392e-01, 1.5797e-01, 1.2869e-01, 1.0483e-01,\n",
              "        8.5397e-02, 6.9566e-02, 5.6670e-02, 4.6164e-02, 3.7606e-02, 3.0635e-02,\n",
              "        2.4955e-02, 2.0329e-02, 1.6560e-02, 1.3490e-02, 1.0990e-02, 8.9523e-03,\n",
              "        7.2927e-03, 5.9407e-03, 4.8394e-03, 3.9423e-03, 3.2114e-03, 2.6161e-03,\n",
              "        2.1311e-03, 1.7360e-03, 1.4142e-03, 1.1520e-03, 9.3847e-04, 7.6450e-04,\n",
              "        6.2277e-04, 5.0732e-04, 4.1327e-04, 3.3666e-04, 2.7425e-04, 2.2341e-04,\n",
              "        1.8199e-04, 1.4825e-04, 1.2077e-04, 9.8381e-05, 8.0143e-05, 6.5286e-05,\n",
              "        5.3183e-05, 4.3324e-05, 3.5292e-05, 2.8750e-05, 2.3420e-05, 1.9078e-05,\n",
              "        1.5542e-05, 1.2660e-05, 1.0313e-05, 8.4015e-06, 6.8440e-06, 5.5752e-06,\n",
              "        4.5417e-06, 3.6997e-06, 3.0139e-06, 2.4551e-06])"
            ]
          },
          "metadata": {},
          "execution_count": 27
        }
      ]
    },
    {
      "cell_type": "code",
      "source": [
        "freqs_for_each_token = torch.outer(torch.arange(17), freqs)\n",
        "freqs_cis = torch.polar(torch.ones_like(freqs_for_each_token), freqs_for_each_token)\n",
        "freqs_cis.shape\n",
        "\n",
        "# viewing tjhe third row of freqs_cis\n",
        "value = freqs_cis[3]\n",
        "plt.figure()\n",
        "for i, element in enumerate(value[:17]):\n",
        "    plt.plot([0, element.real], [0, element.imag], color='blue', linewidth=1, label=f\"Index: {i}\")\n",
        "    plt.annotate(f\"{i}\", xy=(element.real, element.imag), color='red')\n",
        "plt.xlabel('Real')\n",
        "plt.ylabel('Imaginary')\n",
        "plt.title('Plot of one row of freqs_cis')\n",
        "plt.show()"
      ],
      "metadata": {
        "colab": {
          "base_uri": "https://localhost:8080/",
          "height": 472
        },
        "id": "ear01s33ONV0",
        "outputId": "54663e64-f0ce-4845-f231-41eb1c896659"
      },
      "execution_count": 28,
      "outputs": [
        {
          "output_type": "display_data",
          "data": {
            "text/plain": [
              "<Figure size 640x480 with 1 Axes>"
            ],
            "image/png": "[encoded data removed]"
          },
          "metadata": {}
        }
      ]
    },
    {
      "cell_type": "code",
      "source": [
        "q_per_token_as_complex_numbers = torch.view_as_complex(q_per_token_split_into_pairs)\n",
        "q_per_token_as_complex_numbers.shape"
      ],
      "metadata": {
        "colab": {
          "base_uri": "https://localhost:8080/"
        },
        "id": "OrMu0so8ORrn",
        "outputId": "bf444d94-7dd2-4cd3-eefb-f9066964dae0"
      },
      "execution_count": 29,
      "outputs": [
        {
          "output_type": "execute_result",
          "data": {
            "text/plain": [
              "torch.Size([17, 64])"
            ]
          },
          "metadata": {},
          "execution_count": 29
        }
      ]
    },
    {
      "cell_type": "code",
      "source": [
        "device = torch.device(\"cuda\" if torch.cuda.is_available() else \"cpu\")\n",
        "q_per_token_as_complex_numbers = q_per_token_as_complex_numbers.to(device)\n",
        "freqs_cis = freqs_cis.to(device)\n",
        "q_per_token_as_complex_numbers_rotated = q_per_token_as_complex_numbers * freqs_cis\n",
        "q_per_token_as_complex_numbers_rotated.shape"
      ],
      "metadata": {
        "colab": {
          "base_uri": "https://localhost:8080/"
        },
        "id": "Iv1BAIExOSpi",
        "outputId": "e9c8be0a-c4e4-458e-a8fd-bd12eeb9a7fb"
      },
      "execution_count": 32,
      "outputs": [
        {
          "output_type": "execute_result",
          "data": {
            "text/plain": [
              "torch.Size([17, 64])"
            ]
          },
          "metadata": {},
          "execution_count": 32
        }
      ]
    },
    {
      "cell_type": "code",
      "source": [
        "q_per_token_split_into_pairs_rotated = torch.view_as_real(q_per_token_as_complex_numbers_rotated)\n",
        "q_per_token_split_into_pairs_rotated.shape"
      ],
      "metadata": {
        "colab": {
          "base_uri": "https://localhost:8080/"
        },
        "id": "FhJS2nmhPc6x",
        "outputId": "e3dd0119-6c5a-434c-fecc-491c1dfccbc1"
      },
      "execution_count": 34,
      "outputs": [
        {
          "output_type": "execute_result",
          "data": {
            "text/plain": [
              "torch.Size([17, 64, 2])"
            ]
          },
          "metadata": {},
          "execution_count": 34
        }
      ]
    },
    {
      "cell_type": "code",
      "source": [
        "q_per_token_rotated = q_per_token_split_into_pairs_rotated.view(q_per_token.shape)\n",
        "q_per_token_rotated.shape"
      ],
      "metadata": {
        "colab": {
          "base_uri": "https://localhost:8080/"
        },
        "id": "3WxxiqmrPiXD",
        "outputId": "741b8271-7e10-4c8e-c9e2-77231bb5f28d"
      },
      "execution_count": 35,
      "outputs": [
        {
          "output_type": "execute_result",
          "data": {
            "text/plain": [
              "torch.Size([17, 128])"
            ]
          },
          "metadata": {},
          "execution_count": 35
        }
      ]
    },
    {
      "cell_type": "code",
      "source": [
        "k_layer0 = model[\"layers.0.attention.wk.weight\"]\n",
        "k_layer0 = k_layer0.view(n_kv_heads, k_layer0.shape[0] // n_kv_heads, dim)\n",
        "k_layer0.shape"
      ],
      "metadata": {
        "colab": {
          "base_uri": "https://localhost:8080/"
        },
        "id": "n14ArRzlPre2",
        "outputId": "b75a2081-6c63-4c95-dfb9-8e157f4619f3"
      },
      "execution_count": 36,
      "outputs": [
        {
          "output_type": "execute_result",
          "data": {
            "text/plain": [
              "torch.Size([8, 128, 4096])"
            ]
          },
          "metadata": {},
          "execution_count": 36
        }
      ]
    },
    {
      "cell_type": "code",
      "source": [
        "k_layer0_head0 = k_layer0[0]\n",
        "k_layer0_head0.shape"
      ],
      "metadata": {
        "colab": {
          "base_uri": "https://localhost:8080/"
        },
        "id": "vA2p9sd4Pthg",
        "outputId": "e4fbb646-5aa9-4e55-85ac-852d70d0bd56"
      },
      "execution_count": 37,
      "outputs": [
        {
          "output_type": "execute_result",
          "data": {
            "text/plain": [
              "torch.Size([128, 4096])"
            ]
          },
          "metadata": {},
          "execution_count": 37
        }
      ]
    },
    {
      "cell_type": "code",
      "source": [
        "k_per_token = torch.matmul(token_embeddings, k_layer0_head0.T)\n",
        "k_per_token.shape"
      ],
      "metadata": {
        "colab": {
          "base_uri": "https://localhost:8080/"
        },
        "id": "iomzaw2WPuy8",
        "outputId": "a543c622-2f98-453b-e7b0-8a19c0dc2d14"
      },
      "execution_count": 38,
      "outputs": [
        {
          "output_type": "execute_result",
          "data": {
            "text/plain": [
              "torch.Size([17, 128])"
            ]
          },
          "metadata": {},
          "execution_count": 38
        }
      ]
    },
    {
      "cell_type": "code",
      "source": [
        "k_per_token_split_into_pairs = k_per_token.float().view(k_per_token.shape[0], -1, 2)\n",
        "k_per_token_split_into_pairs.shape"
      ],
      "metadata": {
        "colab": {
          "base_uri": "https://localhost:8080/"
        },
        "id": "2qMDpP9yPwBV",
        "outputId": "f3c0bc59-fee5-4b87-f660-5ddbf0916d2e"
      },
      "execution_count": 39,
      "outputs": [
        {
          "output_type": "execute_result",
          "data": {
            "text/plain": [
              "torch.Size([17, 64, 2])"
            ]
          },
          "metadata": {},
          "execution_count": 39
        }
      ]
    },
    {
      "cell_type": "code",
      "source": [
        "k_per_token_as_complex_numbers = torch.view_as_complex(k_per_token_split_into_pairs)\n",
        "k_per_token_as_complex_numbers.shape"
      ],
      "metadata": {
        "colab": {
          "base_uri": "https://localhost:8080/"
        },
        "id": "s7_4VRi5Px6x",
        "outputId": "574a7406-9158-4802-e9b4-d8afaec8eca8"
      },
      "execution_count": 40,
      "outputs": [
        {
          "output_type": "execute_result",
          "data": {
            "text/plain": [
              "torch.Size([17, 64])"
            ]
          },
          "metadata": {},
          "execution_count": 40
        }
      ]
    },
    {
      "cell_type": "code",
      "source": [
        "k_per_token_split_into_pairs_rotated = torch.view_as_real(k_per_token_as_complex_numbers * freqs_cis)\n",
        "k_per_token_split_into_pairs_rotated.shape"
      ],
      "metadata": {
        "colab": {
          "base_uri": "https://localhost:8080/"
        },
        "id": "17C43r4iPzcE",
        "outputId": "c59b6793-609a-4fdb-e9ad-e5bcf045be40"
      },
      "execution_count": 41,
      "outputs": [
        {
          "output_type": "execute_result",
          "data": {
            "text/plain": [
              "torch.Size([17, 64, 2])"
            ]
          },
          "metadata": {},
          "execution_count": 41
        }
      ]
    },
    {
      "cell_type": "code",
      "source": [
        "k_per_token_rotated = k_per_token_split_into_pairs_rotated.view(k_per_token.shape)\n",
        "k_per_token_rotated.shape"
      ],
      "metadata": {
        "colab": {
          "base_uri": "https://localhost:8080/"
        },
        "id": "CNR2hQ8yP0tn",
        "outputId": "29c63a2d-cf39-49ec-d212-22eacd6cc7c4"
      },
      "execution_count": 42,
      "outputs": [
        {
          "output_type": "execute_result",
          "data": {
            "text/plain": [
              "torch.Size([17, 128])"
            ]
          },
          "metadata": {},
          "execution_count": 42
        }
      ]
    },
    {
      "cell_type": "code",
      "source": [
        "qk_per_token = torch.matmul(q_per_token_rotated, k_per_token_rotated.T)/(head_dim)**0.5\n",
        "qk_per_token.shape"
      ],
      "metadata": {
        "colab": {
          "base_uri": "https://localhost:8080/"
        },
        "id": "T5ORy1OGP3tu",
        "outputId": "c1712569-c02d-4df8-cbe5-5beb0cfcef4f"
      },
      "execution_count": 43,
      "outputs": [
        {
          "output_type": "execute_result",
          "data": {
            "text/plain": [
              "torch.Size([17, 17])"
            ]
          },
          "metadata": {},
          "execution_count": 43
        }
      ]
    },
    {
      "cell_type": "code",
      "source": [
        "def display_qk_heatmap(qk_per_token):\n",
        "    _, ax = plt.subplots()\n",
        "    im = ax.imshow(qk_per_token.cpu().to(float).detach(), cmap='viridis')\n",
        "    ax.set_xticks(range(len(prompt_split_as_tokens)))\n",
        "    ax.set_yticks(range(len(prompt_split_as_tokens)))\n",
        "    ax.set_xticklabels(prompt_split_as_tokens)\n",
        "    ax.set_yticklabels(prompt_split_as_tokens)\n",
        "    ax.figure.colorbar(im, ax=ax)\n",
        "\n",
        "display_qk_heatmap(qk_per_token)"
      ],
      "metadata": {
        "colab": {
          "base_uri": "https://localhost:8080/",
          "height": 430
        },
        "id": "jtoRCskyP6AE",
        "outputId": "9e0a8b7b-5609-4c1a-9894-659a819a13b5"
      },
      "execution_count": 49,
      "outputs": [
        {
          "output_type": "display_data",
          "data": {
            "text/plain": [
              "<Figure size 640x480 with 2 Axes>"
            ],
            "image/png": "[encoded data removed]"
          },
          "metadata": {}
        }
      ]
    },
    {
      "cell_type": "code",
      "source": [
        "mask = torch.full((len(tokens), len(tokens)), float(\"-inf\"), device=tokens.device)\n",
        "mask = torch.triu(mask, diagonal=1)\n",
        "mask"
      ],
      "metadata": {
        "colab": {
          "base_uri": "https://localhost:8080/"
        },
        "id": "-R6A09weQ268",
        "outputId": "8072495c-b0af-43dd-8156-ac49476cecb9"
      },
      "execution_count": 51,
      "outputs": [
        {
          "output_type": "execute_result",
          "data": {
            "text/plain": [
              "tensor([[0., -inf, -inf, -inf, -inf, -inf, -inf, -inf, -inf, -inf, -inf, -inf, -inf, -inf, -inf, -inf, -inf],\n",
              "        [0., 0., -inf, -inf, -inf, -inf, -inf, -inf, -inf, -inf, -inf, -inf, -inf, -inf, -inf, -inf, -inf],\n",
              "        [0., 0., 0., -inf, -inf, -inf, -inf, -inf, -inf, -inf, -inf, -inf, -inf, -inf, -inf, -inf, -inf],\n",
              "        [0., 0., 0., 0., -inf, -inf, -inf, -inf, -inf, -inf, -inf, -inf, -inf, -inf, -inf, -inf, -inf],\n",
              "        [0., 0., 0., 0., 0., -inf, -inf, -inf, -inf, -inf, -inf, -inf, -inf, -inf, -inf, -inf, -inf],\n",
              "        [0., 0., 0., 0., 0., 0., -inf, -inf, -inf, -inf, -inf, -inf, -inf, -inf, -inf, -inf, -inf],\n",
              "        [0., 0., 0., 0., 0., 0., 0., -inf, -inf, -inf, -inf, -inf, -inf, -inf, -inf, -inf, -inf],\n",
              "        [0., 0., 0., 0., 0., 0., 0., 0., -inf, -inf, -inf, -inf, -inf, -inf, -inf, -inf, -inf],\n",
              "        [0., 0., 0., 0., 0., 0., 0., 0., 0., -inf, -inf, -inf, -inf, -inf, -inf, -inf, -inf],\n",
              "        [0., 0., 0., 0., 0., 0., 0., 0., 0., 0., -inf, -inf, -inf, -inf, -inf, -inf, -inf],\n",
              "        [0., 0., 0., 0., 0., 0., 0., 0., 0., 0., 0., -inf, -inf, -inf, -inf, -inf, -inf],\n",
              "        [0., 0., 0., 0., 0., 0., 0., 0., 0., 0., 0., 0., -inf, -inf, -inf, -inf, -inf],\n",
              "        [0., 0., 0., 0., 0., 0., 0., 0., 0., 0., 0., 0., 0., -inf, -inf, -inf, -inf],\n",
              "        [0., 0., 0., 0., 0., 0., 0., 0., 0., 0., 0., 0., 0., 0., -inf, -inf, -inf],\n",
              "        [0., 0., 0., 0., 0., 0., 0., 0., 0., 0., 0., 0., 0., 0., 0., -inf, -inf],\n",
              "        [0., 0., 0., 0., 0., 0., 0., 0., 0., 0., 0., 0., 0., 0., 0., 0., -inf],\n",
              "        [0., 0., 0., 0., 0., 0., 0., 0., 0., 0., 0., 0., 0., 0., 0., 0., 0.]])"
            ]
          },
          "metadata": {},
          "execution_count": 51
        }
      ]
    },
    {
      "cell_type": "code",
      "source": [
        "qk_per_token = qk_per_token.cpu()\n",
        "qk_per_token_after_masking = qk_per_token + mask\n",
        "display_qk_heatmap(qk_per_token_after_masking)"
      ],
      "metadata": {
        "colab": {
          "base_uri": "https://localhost:8080/",
          "height": 430
        },
        "id": "vMz4PFquQ7B-",
        "outputId": "1f64e313-cdc5-403d-ef29-c9f20129b402"
      },
      "execution_count": 54,
      "outputs": [
        {
          "output_type": "display_data",
          "data": {
            "text/plain": [
              "<Figure size 640x480 with 2 Axes>"
            ],
            "image/png": "[encoded data removed]"
          },
          "metadata": {}
        }
      ]
    },
    {
      "cell_type": "code",
      "source": [
        "qk_per_token_after_masking_after_softmax = torch.nn.functional.softmax(qk_per_token_after_masking, dim=1).to(torch.bfloat16)\n",
        "display_qk_heatmap(qk_per_token_after_masking_after_softmax)"
      ],
      "metadata": {
        "colab": {
          "base_uri": "https://localhost:8080/",
          "height": 436
        },
        "id": "jStkDB-dRL4W",
        "outputId": "b591cbc0-f8be-4d5d-f36d-21cfd8784816"
      },
      "execution_count": 55,
      "outputs": [
        {
          "output_type": "display_data",
          "data": {
            "text/plain": [
              "<Figure size 640x480 with 2 Axes>"
            ],
            "image/png": "[encoded data removed]"
          },
          "metadata": {}
        }
      ]
    },
    {
      "cell_type": "code",
      "source": [
        "v_layer0 = model[\"layers.0.attention.wv.weight\"]\n",
        "v_layer0 = v_layer0.view(n_kv_heads, v_layer0.shape[0] // n_kv_heads, dim)\n",
        "v_layer0.shape"
      ],
      "metadata": {
        "colab": {
          "base_uri": "https://localhost:8080/"
        },
        "id": "o3SaPg-wRQSH",
        "outputId": "37df6fe1-029e-4a7f-ad29-d9ef78923375"
      },
      "execution_count": 56,
      "outputs": [
        {
          "output_type": "execute_result",
          "data": {
            "text/plain": [
              "torch.Size([8, 128, 4096])"
            ]
          },
          "metadata": {},
          "execution_count": 56
        }
      ]
    },
    {
      "cell_type": "code",
      "source": [
        "v_layer0_head0 = v_layer0[0]\n",
        "v_layer0_head0.shape"
      ],
      "metadata": {
        "colab": {
          "base_uri": "https://localhost:8080/"
        },
        "id": "EALGjL5iRR2X",
        "outputId": "1ec22c3e-2c0d-457b-a937-68074f330d49"
      },
      "execution_count": 57,
      "outputs": [
        {
          "output_type": "execute_result",
          "data": {
            "text/plain": [
              "torch.Size([128, 4096])"
            ]
          },
          "metadata": {},
          "execution_count": 57
        }
      ]
    },
    {
      "cell_type": "code",
      "source": [
        "v_per_token = torch.matmul(token_embeddings, v_layer0_head0.T)\n",
        "v_per_token.shape"
      ],
      "metadata": {
        "colab": {
          "base_uri": "https://localhost:8080/"
        },
        "id": "f6pzBWV1RUmK",
        "outputId": "c4ea4979-8420-415d-f082-d36af1d1051a"
      },
      "execution_count": 58,
      "outputs": [
        {
          "output_type": "execute_result",
          "data": {
            "text/plain": [
              "torch.Size([17, 128])"
            ]
          },
          "metadata": {},
          "execution_count": 58
        }
      ]
    },
    {
      "cell_type": "code",
      "source": [
        "v_per_token = v_per_token.cpu()\n",
        "qkv_attention = torch.matmul(qk_per_token_after_masking_after_softmax, v_per_token)\n",
        "qkv_attention.shape"
      ],
      "metadata": {
        "colab": {
          "base_uri": "https://localhost:8080/"
        },
        "id": "g3R9okBBRV-w",
        "outputId": "4d3b345c-b634-4e80-d7e8-6aa0287e0f86"
      },
      "execution_count": 62,
      "outputs": [
        {
          "output_type": "execute_result",
          "data": {
            "text/plain": [
              "torch.Size([17, 128])"
            ]
          },
          "metadata": {},
          "execution_count": 62
        }
      ]
    },
    {
      "cell_type": "code",
      "source": [
        "qkv_attention_store = []\n",
        "for head in range(n_heads):\n",
        "    q_layer0_head = q_layer0[head]\n",
        "    k_layer0_head = k_layer0[head//4] # key weights are shared across 4 heads\n",
        "    v_layer0_head = v_layer0[head//4] # value weights are shared across 4 heads\n",
        "    q_per_token = torch.matmul(token_embeddings, q_layer0_head.T)\n",
        "    k_per_token = torch.matmul(token_embeddings, k_layer0_head.T)\n",
        "    v_per_token = torch.matmul(token_embeddings, v_layer0_head.T)\n",
        "\n",
        "    q_per_token_split_into_pairs = q_per_token.float().view(q_per_token.shape[0], -1, 2)\n",
        "    q_per_token_as_complex_numbers = torch.view_as_complex(q_per_token_split_into_pairs)\n",
        "    q_per_token_split_into_pairs_rotated = torch.view_as_real(q_per_token_as_complex_numbers * freqs_cis[:len(tokens)])\n",
        "    q_per_token_rotated = q_per_token_split_into_pairs_rotated.view(q_per_token.shape)\n",
        "\n",
        "    k_per_token_split_into_pairs = k_per_token.float().view(k_per_token.shape[0], -1, 2)\n",
        "    k_per_token_as_complex_numbers = torch.view_as_complex(k_per_token_split_into_pairs)\n",
        "    k_per_token_split_into_pairs_rotated = torch.view_as_real(k_per_token_as_complex_numbers * freqs_cis[:len(tokens)])\n",
        "    k_per_token_rotated = k_per_token_split_into_pairs_rotated.view(k_per_token.shape)\n",
        "\n",
        "    qk_per_token = torch.matmul(q_per_token_rotated, k_per_token_rotated.T)/(128)**0.5\n",
        "    mask = torch.full((len(tokens), len(tokens)), float(\"-inf\"), device=tokens.device)\n",
        "    mask = torch.triu(mask, diagonal=1)\n",
        "    qk_per_token_after_masking = qk_per_token.cpu() + mask.cpu()\n",
        "    qk_per_token_after_masking_after_softmax = torch.nn.functional.softmax(qk_per_token_after_masking, dim=1).to(torch.bfloat16)\n",
        "    qkv_attention = torch.matmul(qk_per_token_after_masking_after_softmax.cpu(), v_per_token.cpu())\n",
        "    qkv_attention = torch.matmul(qk_per_token_after_masking_after_softmax.cpu(), v_per_token.cpu())\n",
        "    qkv_attention_store.append(qkv_attention)\n",
        "\n",
        "len(qkv_attention_store)"
      ],
      "metadata": {
        "colab": {
          "base_uri": "https://localhost:8080/"
        },
        "id": "QzjKLJoERg71",
        "outputId": "f403179b-51b5-495b-a8aa-d96aef2149ad"
      },
      "execution_count": 71,
      "outputs": [
        {
          "output_type": "execute_result",
          "data": {
            "text/plain": [
              "32"
            ]
          },
          "metadata": {},
          "execution_count": 71
        }
      ]
    },
    {
      "cell_type": "code",
      "source": [
        "stacked_qkv_attention = torch.cat(qkv_attention_store, dim=-1)\n",
        "stacked_qkv_attention.shape"
      ],
      "metadata": {
        "colab": {
          "base_uri": "https://localhost:8080/"
        },
        "id": "NuN_cNuDSmEb",
        "outputId": "2c623ceb-2282-4c13-ea36-8ee1cb66ee07"
      },
      "execution_count": 72,
      "outputs": [
        {
          "output_type": "execute_result",
          "data": {
            "text/plain": [
              "torch.Size([17, 4096])"
            ]
          },
          "metadata": {},
          "execution_count": 72
        }
      ]
    },
    {
      "cell_type": "code",
      "source": [
        "w_layer0 = model[\"layers.0.attention.wo.weight\"]\n",
        "w_layer0.shape"
      ],
      "metadata": {
        "colab": {
          "base_uri": "https://localhost:8080/"
        },
        "id": "dExEDyQYSoZY",
        "outputId": "04a45c78-7bc4-45f6-e733-a85a9f757120"
      },
      "execution_count": 73,
      "outputs": [
        {
          "output_type": "execute_result",
          "data": {
            "text/plain": [
              "torch.Size([4096, 4096])"
            ]
          },
          "metadata": {},
          "execution_count": 73
        }
      ]
    },
    {
      "cell_type": "code",
      "source": [
        "stacked_qkv_attention = stacked_qkv_attention.cpu()\n",
        "embedding_delta = torch.matmul(stacked_qkv_attention, w_layer0.T.cpu())\n",
        "embedding_delta.shape"
      ],
      "metadata": {
        "colab": {
          "base_uri": "https://localhost:8080/"
        },
        "id": "KIYLUfFWSp3k",
        "outputId": "c12a3c6b-3fa4-4bb5-c5b6-6bc21a11939d"
      },
      "execution_count": 80,
      "outputs": [
        {
          "output_type": "execute_result",
          "data": {
            "text/plain": [
              "torch.Size([17, 4096])"
            ]
          },
          "metadata": {},
          "execution_count": 80
        }
      ]
    },
    {
      "cell_type": "code",
      "source": [
        "token_embeddings_unnormalized = token_embeddings_unnormalized.cpu()\n",
        "embedding_after_edit = token_embeddings_unnormalized + embedding_delta\n",
        "embedding_after_edit.shape"
      ],
      "metadata": {
        "colab": {
          "base_uri": "https://localhost:8080/"
        },
        "id": "4vhhx-3wSvdw",
        "outputId": "1adf8fed-5a21-4c13-b953-161625236d8f"
      },
      "execution_count": 83,
      "outputs": [
        {
          "output_type": "execute_result",
          "data": {
            "text/plain": [
              "torch.Size([17, 4096])"
            ]
          },
          "metadata": {},
          "execution_count": 83
        }
      ]
    },
    {
      "cell_type": "code",
      "source": [
        "embedding_after_edit_normalized = rms_norm(embedding_after_edit.cpu(), model[\"layers.0.ffn_norm.weight\"].cpu())\n",
        "embedding_after_edit_normalized.shape"
      ],
      "metadata": {
        "colab": {
          "base_uri": "https://localhost:8080/"
        },
        "id": "0pi3k6TfTMvL",
        "outputId": "4db663c2-707b-41e0-ab21-7d0bfe18d7a9"
      },
      "execution_count": 86,
      "outputs": [
        {
          "output_type": "execute_result",
          "data": {
            "text/plain": [
              "torch.Size([17, 4096])"
            ]
          },
          "metadata": {},
          "execution_count": 86
        }
      ]
    },
    {
      "cell_type": "code",
      "source": [
        "embedding_after_edit_normalized = embedding_after_edit_normalized.cpu()\n",
        "w1 = model[\"layers.0.feed_forward.w1.weight\"].cpu()\n",
        "w2 = model[\"layers.0.feed_forward.w2.weight\"].cpu()\n",
        "w3 = model[\"layers.0.feed_forward.w3.weight\"].cpu()\n",
        "output_after_feedforward = torch.matmul(torch.functional.F.silu(torch.matmul(embedding_after_edit_normalized, w1.T)) * torch.matmul(embedding_after_edit_normalized, w3.T), w2.T)\n",
        "output_after_feedforward.shape"
      ],
      "metadata": {
        "colab": {
          "base_uri": "https://localhost:8080/"
        },
        "id": "6fkL_HRvTdp6",
        "outputId": "567a0177-697c-45db-e3c8-57c2a0bac040"
      },
      "execution_count": 89,
      "outputs": [
        {
          "output_type": "execute_result",
          "data": {
            "text/plain": [
              "torch.Size([17, 4096])"
            ]
          },
          "metadata": {},
          "execution_count": 89
        }
      ]
    },
    {
      "cell_type": "code",
      "source": [
        "layer_0_embedding = embedding_after_edit+output_after_feedforward\n",
        "layer_0_embedding.shape"
      ],
      "metadata": {
        "colab": {
          "base_uri": "https://localhost:8080/"
        },
        "id": "q3e3QI5bTvKR",
        "outputId": "26afb109-40f4-434a-bfac-679d545278de"
      },
      "execution_count": 90,
      "outputs": [
        {
          "output_type": "execute_result",
          "data": {
            "text/plain": [
              "torch.Size([17, 4096])"
            ]
          },
          "metadata": {},
          "execution_count": 90
        }
      ]
    },
    {
      "cell_type": "code",
      "source": [
        "final_embedding = token_embeddings_unnormalized\n",
        "final_embedding.cpu()\n",
        "for layer in range(n_layers):\n",
        "    qkv_attention_store = []\n",
        "    layer_embedding_norm = rms_norm(final_embedding, model[f\"layers.{layer}.attention_norm.weight\"].cpu())\n",
        "    layer_embedding_norm = layer_embedding_norm.cpu()\n",
        "    q_layer = model[f\"layers.{layer}.attention.wq.weight\"]\n",
        "    q_layer = q_layer.view(n_heads, q_layer.shape[0] // n_heads, dim)\n",
        "    k_layer = model[f\"layers.{layer}.attention.wk.weight\"]\n",
        "    k_layer = k_layer.view(n_kv_heads, k_layer.shape[0] // n_kv_heads, dim)\n",
        "    v_layer = model[f\"layers.{layer}.attention.wv.weight\"]\n",
        "    v_layer = v_layer.view(n_kv_heads, v_layer.shape[0] // n_kv_heads, dim)\n",
        "    w_layer = model[f\"layers.{layer}.attention.wo.weight\"]\n",
        "    for head in range(n_heads):\n",
        "        q_layer_head = q_layer[head]\n",
        "        k_layer_head = k_layer[head//4]\n",
        "        v_layer_head = v_layer[head//4]\n",
        "        q_per_token = torch.matmul(layer_embedding_norm, q_layer_head.T.cpu())\n",
        "        k_per_token = torch.matmul(layer_embedding_norm, k_layer_head.T.cpu())\n",
        "        v_per_token = torch.matmul(layer_embedding_norm, v_layer_head.T.cpu())\n",
        "        q_per_token_split_into_pairs = q_per_token.float().view(q_per_token.shape[0], -1, 2)\n",
        "        q_per_token_as_complex_numbers = torch.view_as_complex(q_per_token_split_into_pairs)\n",
        "        q_per_token_split_into_pairs_rotated = torch.view_as_real(q_per_token_as_complex_numbers.cpu() * freqs_cis.cpu())\n",
        "        q_per_token_rotated = q_per_token_split_into_pairs_rotated.view(q_per_token.shape)\n",
        "        k_per_token_split_into_pairs = k_per_token.float().view(k_per_token.shape[0], -1, 2)\n",
        "        k_per_token_as_complex_numbers = torch.view_as_complex(k_per_token_split_into_pairs)\n",
        "        k_per_token_split_into_pairs_rotated = torch.view_as_real(k_per_token_as_complex_numbers.cpu() * freqs_cis.cpu())\n",
        "        k_per_token_rotated = k_per_token_split_into_pairs_rotated.view(k_per_token.shape)\n",
        "        qk_per_token = torch.matmul(q_per_token_rotated, k_per_token_rotated.T)/(128)**0.5\n",
        "        mask = torch.full((len(token_embeddings_unnormalized), len(token_embeddings_unnormalized)), float(\"-inf\"))\n",
        "        mask = torch.triu(mask, diagonal=1)\n",
        "        qk_per_token_after_masking = qk_per_token + mask\n",
        "        qk_per_token_after_masking_after_softmax = torch.nn.functional.softmax(qk_per_token_after_masking, dim=1).to(torch.bfloat16)\n",
        "        qkv_attention = torch.matmul(qk_per_token_after_masking_after_softmax, v_per_token)\n",
        "        qkv_attention_store.append(qkv_attention)\n",
        "\n",
        "    stacked_qkv_attention = torch.cat(qkv_attention_store, dim=-1)\n",
        "    w_layer = model[f\"layers.{layer}.attention.wo.weight\"]\n",
        "    embedding_delta = torch.matmul(stacked_qkv_attention.cpu(), w_layer.T.cpu())\n",
        "    embedding_after_edit = final_embedding + embedding_delta\n",
        "    embedding_after_edit_normalized = rms_norm(embedding_after_edit.cpu(), model[f\"layers.{layer}.ffn_norm.weight\"].cpu())\n",
        "    w1 = model[f\"layers.{layer}.feed_forward.w1.weight\"]\n",
        "    w2 = model[f\"layers.{layer}.feed_forward.w2.weight\"]\n",
        "    w3 = model[f\"layers.{layer}.feed_forward.w3.weight\"]\n",
        "    output_after_feedforward = torch.matmul(torch.functional.F.silu(torch.matmul(embedding_after_edit_normalized.cpu(), w1.T.cpu())) * torch.matmul(embedding_after_edit_normalized.cpu(), w3.T.cpu()), w2.T.cpu())\n",
        "    final_embedding = embedding_after_edit+output_after_feedforward"
      ],
      "metadata": {
        "id": "llRaNo31T1rH"
      },
      "execution_count": 104,
      "outputs": []
    },
    {
      "cell_type": "code",
      "source": [
        "final_embedding = rms_norm(final_embedding, model[\"norm.weight\"].cpu())\n",
        "final_embedding.shape"
      ],
      "metadata": {
        "colab": {
          "base_uri": "https://localhost:8080/"
        },
        "id": "b-dbknqZU8In",
        "outputId": "55af05ed-a007-49a2-ec0c-400d3fe1278d"
      },
      "execution_count": 107,
      "outputs": [
        {
          "output_type": "execute_result",
          "data": {
            "text/plain": [
              "torch.Size([17, 4096])"
            ]
          },
          "metadata": {},
          "execution_count": 107
        }
      ]
    },
    {
      "cell_type": "code",
      "source": [
        "model[\"output.weight\"].shape"
      ],
      "metadata": {
        "colab": {
          "base_uri": "https://localhost:8080/"
        },
        "id": "4WSiT75dVDyH",
        "outputId": "83603294-562e-4195-b875-8d047c7698d7"
      },
      "execution_count": 108,
      "outputs": [
        {
          "output_type": "execute_result",
          "data": {
            "text/plain": [
              "torch.Size([128256, 4096])"
            ]
          },
          "metadata": {},
          "execution_count": 108
        }
      ]
    },
    {
      "cell_type": "code",
      "source": [
        "logits = torch.matmul(final_embedding[-1], model[\"output.weight\"].T.cpu())\n",
        "logits.shape"
      ],
      "metadata": {
        "colab": {
          "base_uri": "https://localhost:8080/"
        },
        "id": "HnbbE4VvVG5u",
        "outputId": "ce15a6de-26ec-46ab-ede1-36c94b56d47a"
      },
      "execution_count": 110,
      "outputs": [
        {
          "output_type": "execute_result",
          "data": {
            "text/plain": [
              "torch.Size([128256])"
            ]
          },
          "metadata": {},
          "execution_count": 110
        }
      ]
    },
    {
      "cell_type": "code",
      "source": [
        "next_token = torch.argmax(logits, dim=-1)\n",
        "next_token"
      ],
      "metadata": {
        "colab": {
          "base_uri": "https://localhost:8080/"
        },
        "id": "UN7R7v1IVK99",
        "outputId": "be9ff075-f868-461c-bdea-c520139ec38f"
      },
      "execution_count": 111,
      "outputs": [
        {
          "output_type": "execute_result",
          "data": {
            "text/plain": [
              "tensor(2983)"
            ]
          },
          "metadata": {},
          "execution_count": 111
        }
      ]
    },
    {
      "cell_type": "code",
      "source": [
        "tokenizer.decode([next_token.item()])"
      ],
      "metadata": {
        "colab": {
          "base_uri": "https://localhost:8080/",
          "height": 35
        },
        "id": "qEhpBeaGVM7e",
        "outputId": "5f90a90d-90a1-4017-c213-71f415c55dda"
      },
      "execution_count": 112,
      "outputs": [
        {
          "output_type": "execute_result",
          "data": {
            "text/plain": [
              "'42'"
            ],
            "application/vnd.google.colaboratory.intrinsic+json": {
              "type": "string"
            }
          },
          "metadata": {},
          "execution_count": 112
        }
      ]
    }
  ]
}